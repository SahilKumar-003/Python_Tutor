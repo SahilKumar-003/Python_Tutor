{
  "nbformat": 4,
  "nbformat_minor": 0,
  "metadata": {
    "colab": {
      "provenance": [],
      "authorship_tag": "ABX9TyMVIobLu8pcH+7kyAY2Tp6Y",
      "include_colab_link": true
    },
    "kernelspec": {
      "name": "python3",
      "display_name": "Python 3"
    },
    "language_info": {
      "name": "python"
    }
  },
  "cells": [
    {
      "cell_type": "markdown",
      "metadata": {
        "id": "view-in-github",
        "colab_type": "text"
      },
      "source": [
        "<a href=\"https://colab.research.google.com/github/SahilKumar-003/Python_Tutor/blob/main/Data_Structure.ipynb\" target=\"_parent\"><img src=\"https://colab.research.google.com/assets/colab-badge.svg\" alt=\"Open In Colab\"/></a>"
      ]
    },
    {
      "cell_type": "markdown",
      "source": [
        "**DATA STRUCTUTRE**\n",
        "***List, Tuples, Set, Dictionary***\n"
      ],
      "metadata": {
        "id": "24pixRQv04x7"
      }
    },
    {
      "cell_type": "code",
      "source": [
        "item_name = [\"Pizza\",\"Burger\",\"Pasta\",\"Coffie\",\"Tea\",\"Mango Shake\"]\n",
        "prices = [150,77,99,49,20,60]\n",
        "discounts = [3,3,3,2,0,2]\n",
        "total = 0\n",
        "disc = 10\n",
        "print(\"Item Names:\",item_name)\n",
        "print(\"Prices:\",prices)\n",
        "print(\"Discounts:\",discounts)\n",
        "print(prices[2])\n",
        "for price in prices:\n",
        "  total += price\n",
        "after_discount = total - (total*10)/100\n",
        "print(\"Total Bill:\",total)\n",
        "print(\"Prices after Discount:\",after_discount)"
      ],
      "metadata": {
        "colab": {
          "base_uri": "https://localhost:8080/"
        },
        "id": "8qDhGyz71J1K",
        "outputId": "517bf88a-e1d4-4991-9cd6-1cb0c9cd3e36"
      },
      "execution_count": null,
      "outputs": [
        {
          "output_type": "stream",
          "name": "stdout",
          "text": [
            "Item Names: ['Pizza', 'Burger', 'Pasta', 'Coffie', 'Tea', 'Mango Shake']\n",
            "Prices: [150, 77, 99, 49, 20, 60]\n",
            "Discounts: [3, 3, 3, 2, 0, 2]\n",
            "99\n",
            "Total Bill: 455\n",
            "Prices after Discount: 409.5\n"
          ]
        }
      ]
    },
    {
      "cell_type": "code",
      "source": [
        "a = [10,20,30,40,50]\n",
        "print(a[1])\n",
        "num = 30\n",
        "if num in a:\n",
        "  print(\"Avaliable\")\n",
        "else:\n",
        "  print(\"Not avaliable\")\n",
        "print(a[-5:-1])\n"
      ],
      "metadata": {
        "colab": {
          "base_uri": "https://localhost:8080/"
        },
        "id": "KQya-7Gx2Dnc",
        "outputId": "f5f92af0-750d-41cf-b281-4770e1efde61"
      },
      "execution_count": null,
      "outputs": [
        {
          "output_type": "stream",
          "name": "stdout",
          "text": [
            "20\n",
            "Avaliable\n",
            "[10, 20, 30, 40]\n"
          ]
        }
      ]
    },
    {
      "cell_type": "code",
      "source": [
        "a = [10,20,30,40,50]\n",
        "sum = 0\n",
        "for values in a:\n",
        "  print(values)\n",
        "  sum += values\n",
        "print(\"Total\",sum)\n",
        "a.append(60)    # .append() function\n",
        "print(a)"
      ],
      "metadata": {
        "colab": {
          "base_uri": "https://localhost:8080/"
        },
        "id": "KCmVeRjR3yXj",
        "outputId": "71898f4c-e0f8-4366-b976-72777ab14f76"
      },
      "execution_count": null,
      "outputs": [
        {
          "output_type": "stream",
          "name": "stdout",
          "text": [
            "10\n",
            "20\n",
            "30\n",
            "40\n",
            "50\n",
            "Total 150\n",
            "[10, 20, 30, 40, 50, 60]\n"
          ]
        }
      ]
    },
    {
      "cell_type": "code",
      "source": [
        "a = [10,20,30,40,50]\n",
        "a[1] = 50\n",
        "a.remove(40)    # .pop() function, .push() function\n",
        "a.pop()\n",
        "print(a)\n",
        "\n"
      ],
      "metadata": {
        "colab": {
          "base_uri": "https://localhost:8080/"
        },
        "id": "fwfmU_4r6Wr8",
        "outputId": "ea5a0d6c-e48a-4d05-8f41-efed3d17af64"
      },
      "execution_count": null,
      "outputs": [
        {
          "output_type": "stream",
          "name": "stdout",
          "text": [
            "[10, 50, 30]\n"
          ]
        }
      ]
    },
    {
      "cell_type": "code",
      "source": [
        "# Restaurant Billing System\n",
        "items = []\n",
        "prices = []\n",
        "discounts = []\n",
        "coupens = [\"SAVE10%\",\"SAHIL\",\"OFFER20\",\"WINNER005\"]\n",
        "coupen_discount =[10,15,20,40]\n",
        "# discounted_prices = []\n",
        "total_price = 0\n",
        "total_discount = 0\n",
        "final_price = 0\n",
        "n = int(input(\"Enter Number Of Items:\"))\n",
        "for item in range(n):\n",
        "  item = input(f\"Enter Your {item+1} item:\")\n",
        "  items.append(item)\n",
        "\n",
        "  price = int(input(f\"Enter the price of {item} : \"))\n",
        "  prices.append(price)\n",
        "  total_price += price\n",
        "\n",
        "  discount = int(input(f\"Enter the Dicount on {item}:\"))\n",
        "  discounts.append(discount)\n",
        "  total_discount += discount\n",
        "\n",
        "  # item_price_after_Discount =  price - (price*discount)/100\n",
        "  # discounted_prices.append(item_price_after_Discount)\n",
        "  # final_price += item_price_after_Discount\n",
        "\n",
        "final_price = total_price - (total_price*total_discount)/100\n",
        "\n",
        "\n",
        "coupen_code = input(\"Enter Coupon Code:\")\n",
        "# coupen_discount = 10\n",
        "# if Coupen_code == \"SAHIL\":\n",
        "#   final_price = final_price - (final_price*coupen_discount)/100\n",
        "# else:\n",
        "#   print(\"invalid coupen code\")\n",
        "if coupen_code in coupens:\n",
        "  index = coupens.index(coupen_code)\n",
        "  final_price = final_price -(final_price*coupen_discount[index])/100\n",
        "else:\n",
        "    (\"invalid Coupen Code\")\n",
        "\n",
        "print(\"\\n   Your Bill  \")\n",
        "print(\"Item Names :\",items)\n",
        "print(\"Prices of item :\",prices)\n",
        "print(\"Discount on items:\",discounts,\"\\nTotal Discount:\",total_discount)\n",
        "# print(\"Final Price After Discount :\", discounted_prices)\n",
        "print(\"Total Price:\",final_price)\n",
        "\n",
        "\n",
        "\n",
        "\n",
        "\n"
      ],
      "metadata": {
        "id": "l6EupGfJ77ou",
        "colab": {
          "base_uri": "https://localhost:8080/"
        },
        "outputId": "4e9df997-b11a-4e7d-8699-2a20617131c3"
      },
      "execution_count": 17,
      "outputs": [
        {
          "output_type": "stream",
          "name": "stdout",
          "text": [
            "Enter Number Of Items:2\n",
            "Enter Your 1 item:pizza\n",
            "Enter the price of pizza : 200\n",
            "Enter the Dicount on pizza:5\n",
            "Enter Your 2 item:pasta\n",
            "Enter the price of pasta : 150\n",
            "Enter the Dicount on pasta:5\n",
            "Enter Coupon Code:OFFER20\n",
            "\n",
            "   Your Bill  \n",
            "Item Names : ['pizza', 'pasta']\n",
            "Prices of item : [200, 150]\n",
            "Discount on items: [5, 5] \n",
            "Total Discount: 10\n",
            "Total Price: 252.0\n"
          ]
        }
      ]
    },
    {
      "cell_type": "code",
      "source": [
        "# Restaurant billing system using list\n",
        "items = []\n",
        "prices = []\n",
        "discounts = []\n",
        "price_after_discount = []\n",
        "coupens = [\"SAVE10%\",\"SAHIL\",\"OFFER20\",\"WINNER005\"]\n",
        "coupen_discount =[10,15,20,40]\n",
        "total_price = 0\n",
        "final_price = 0\n",
        "n = int(input(\"Enter Number of Selected Items:\"))\n",
        "for item in range(n):\n",
        "  item = input(f\"Enter your {item+1} item:\")\n",
        "  items.append(item)\n",
        "\n",
        "  price = int(input(f\"Enter the price of {item}:\"))\n",
        "  prices.append(price)\n",
        "  total_price += price\n",
        "\n",
        "  discount = int(input(f\"Enter the Discount on {item}:\"))\n",
        "  discounts.append(discount)\n",
        "\n",
        "  discounted_price = price - (price*discount)/100\n",
        "  price_after_discount.append(discounted_price)\n",
        "  final_price += discounted_price\n",
        "paying_price = final_price\n",
        "apply_coupen = input(\"Enter Coupen Code:\")\n",
        "if apply_coupen in coupens :\n",
        "  index = coupens.index(apply_coupen)\n",
        "  paying_price = final_price - (final_price*coupen_discount[index])/100\n",
        "else:\n",
        "  no_cupon = \"No cupon applied\"\n",
        "  paying_price = final_price\n",
        "\n",
        "print(\"\\n....Retreat Restaurants....\")\n",
        "print(\"       Your Bill           \")\n",
        "print(\"Items Names:\",items,\"\\nPrice of Items :\",prices,\"\\nDiscount Given on items:\",discounts)\n",
        "print(\"Price After Discount :\",price_after_discount)\n",
        "print(\"Total Price:\",total_price)\n",
        "print(\"Payable Price:\",paying_price)\n",
        "print(no_cupon)"
      ],
      "metadata": {
        "id": "0mbS7OR-4T8Z",
        "colab": {
          "base_uri": "https://localhost:8080/"
        },
        "outputId": "8287cbd8-3749-4d7e-e04e-cc45c0b71b76"
      },
      "execution_count": 26,
      "outputs": [
        {
          "output_type": "stream",
          "name": "stdout",
          "text": [
            "Enter Number of Selected Items:2\n",
            "Enter your 1 item:pasta\n",
            "Enter the price of pasta:500\n",
            "Enter the Discount on pasta:10\n",
            "Enter your 2 item:pizza\n",
            "Enter the price of pizza:1200\n",
            "Enter the Discount on pizza:5\n",
            "Enter Coupen Code:mown\n",
            "\n",
            "....Retreat Restaurants....\n",
            "       Your Bill           \n",
            "Items Names: ['pasta', 'pizza'] \n",
            "Price of Items : [500, 1200] \n",
            "Discount Given on items: [10, 5]\n",
            "Price After Discount : [450.0, 1140.0]\n",
            "Total Price: 1700\n",
            "Payable Price: 1590.0\n",
            "No cupon applied\n"
          ]
        }
      ]
    },
    {
      "cell_type": "code",
      "source": [],
      "metadata": {
        "id": "mLSLTuJYxYbd"
      },
      "execution_count": null,
      "outputs": []
    }
  ]
}
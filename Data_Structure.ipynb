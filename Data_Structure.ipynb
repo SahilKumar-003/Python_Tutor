{
  "nbformat": 4,
  "nbformat_minor": 0,
  "metadata": {
    "colab": {
      "provenance": [],
      "authorship_tag": "ABX9TyOMlREtatFUax8tZ25itioL",
      "include_colab_link": true
    },
    "kernelspec": {
      "name": "python3",
      "display_name": "Python 3"
    },
    "language_info": {
      "name": "python"
    }
  },
  "cells": [
    {
      "cell_type": "markdown",
      "metadata": {
        "id": "view-in-github",
        "colab_type": "text"
      },
      "source": [
        "<a href=\"https://colab.research.google.com/github/SahilKumar-003/Python_Tutor/blob/main/Data_Structure.ipynb\" target=\"_parent\"><img src=\"https://colab.research.google.com/assets/colab-badge.svg\" alt=\"Open In Colab\"/></a>"
      ]
    },
    {
      "cell_type": "markdown",
      "source": [
        "**DATA STRUCTUTRE**\n",
        "***List, Tuples, Set, Dictionary***\n"
      ],
      "metadata": {
        "id": "24pixRQv04x7"
      }
    },
    {
      "cell_type": "code",
      "source": [
        "item_name = [\"Pizza\",\"Burger\",\"Pasta\",\"Coffie\",\"Tea\",\"Mango Shake\"]\n",
        "prices = [150,77,99,49,20,60]\n",
        "discounts = [3,3,3,2,0,2]\n",
        "total = 0\n",
        "disc = 10\n",
        "print(\"Item Names:\",item_name)\n",
        "print(\"Prices:\",prices)\n",
        "print(\"Discounts:\",discounts)\n",
        "print(prices[2])\n",
        "for price in prices:\n",
        "  total += price\n",
        "after_discount = total - (total*10)/100\n",
        "print(\"Total Bill:\",total)\n",
        "print(\"Prices after Discount:\",after_discount)"
      ],
      "metadata": {
        "colab": {
          "base_uri": "https://localhost:8080/"
        },
        "id": "8qDhGyz71J1K",
        "outputId": "517bf88a-e1d4-4991-9cd6-1cb0c9cd3e36"
      },
      "execution_count": null,
      "outputs": [
        {
          "output_type": "stream",
          "name": "stdout",
          "text": [
            "Item Names: ['Pizza', 'Burger', 'Pasta', 'Coffie', 'Tea', 'Mango Shake']\n",
            "Prices: [150, 77, 99, 49, 20, 60]\n",
            "Discounts: [3, 3, 3, 2, 0, 2]\n",
            "99\n",
            "Total Bill: 455\n",
            "Prices after Discount: 409.5\n"
          ]
        }
      ]
    },
    {
      "cell_type": "code",
      "source": [
        "a = [10,20,30,40,50]\n",
        "print(a[1])\n",
        "num = 30\n",
        "if num in a:\n",
        "  print(\"Avaliable\")\n",
        "else:\n",
        "  print(\"Not avaliable\")\n",
        "print(a[-5:-1])\n"
      ],
      "metadata": {
        "colab": {
          "base_uri": "https://localhost:8080/"
        },
        "id": "KQya-7Gx2Dnc",
        "outputId": "f5f92af0-750d-41cf-b281-4770e1efde61"
      },
      "execution_count": null,
      "outputs": [
        {
          "output_type": "stream",
          "name": "stdout",
          "text": [
            "20\n",
            "Avaliable\n",
            "[10, 20, 30, 40]\n"
          ]
        }
      ]
    },
    {
      "cell_type": "code",
      "source": [
        "a = [10,20,30,40,50]\n",
        "sum = 0\n",
        "for values in a:\n",
        "  print(values)\n",
        "  sum += values\n",
        "print(\"Total\",sum)\n",
        "a.append(60)    # .append() function\n",
        "print(a)"
      ],
      "metadata": {
        "colab": {
          "base_uri": "https://localhost:8080/"
        },
        "id": "KCmVeRjR3yXj",
        "outputId": "71898f4c-e0f8-4366-b976-72777ab14f76"
      },
      "execution_count": null,
      "outputs": [
        {
          "output_type": "stream",
          "name": "stdout",
          "text": [
            "10\n",
            "20\n",
            "30\n",
            "40\n",
            "50\n",
            "Total 150\n",
            "[10, 20, 30, 40, 50, 60]\n"
          ]
        }
      ]
    },
    {
      "cell_type": "code",
      "source": [
        "a = [10,20,30,40,50]\n",
        "a[1] = 50\n",
        "a.remove(40)    # .pop() function, .push() function\n",
        "a.pop()\n",
        "print(a)\n",
        "\n"
      ],
      "metadata": {
        "colab": {
          "base_uri": "https://localhost:8080/"
        },
        "id": "fwfmU_4r6Wr8",
        "outputId": "ea5a0d6c-e48a-4d05-8f41-efed3d17af64"
      },
      "execution_count": null,
      "outputs": [
        {
          "output_type": "stream",
          "name": "stdout",
          "text": [
            "[10, 50, 30]\n"
          ]
        }
      ]
    },
    {
      "cell_type": "code",
      "source": [
        "from typing_extensions import final\n",
        "# Restaurant Billing System\n",
        "items = []\n",
        "prices = []\n",
        "discounts = []\n",
        "discounted_prices = []\n",
        "n = int(input(\"Enter Number Of Items:\"))\n",
        "for item in range(n):\n",
        "  item = input(f\"Enter Your {item+1} item:\")\n",
        "  items.append(item)\n",
        "\n",
        "  price = int(input(f\"Enter the price of {item} : \"))\n",
        "  prices.append(price)\n",
        "\n",
        "  discount = int(input(f\"Enter the Dicount on {item}\"))\n",
        "  discounts.append(discount)\n",
        "\n",
        "  item_price_after_Discount =  price - (price*discount)/100\n",
        "  discounted_prices.append(item_price_after_Discount)\n",
        "\n",
        "print(\"\\n   Your Bill  \")\n",
        "print(\"Item Names :\",items)\n",
        "print(\"Prices of item :\",prices)\n",
        "print(\"Discount on items:\",discounts)\n",
        "print(\"Final Price After Discount :\", discounted_prices)\n",
        "final_Price = 0\n",
        "for values in discounted_prices:\n",
        "  final_Price += values\n",
        "print(\"Total Price:\",final_Price)\n",
        "\n",
        "\n",
        "\n"
      ],
      "metadata": {
        "id": "l6EupGfJ77ou",
        "colab": {
          "base_uri": "https://localhost:8080/"
        },
        "outputId": "cf7fee58-4f59-468f-fcd2-397db936ee8e"
      },
      "execution_count": 42,
      "outputs": [
        {
          "output_type": "stream",
          "name": "stdout",
          "text": [
            "Enter Number Of Items:3\n",
            "Enter Your 1 item:Pizza\n",
            "Enter the price of Pizza : 400\n",
            "Enter the Dicount on Pizza10\n",
            "Enter Your 2 item:Burger\n",
            "Enter the price of Burger : 150\n",
            "Enter the Dicount on Burger5\n",
            "Enter Your 3 item:Coffie\n",
            "Enter the price of Coffie : 100\n",
            "Enter the Dicount on Coffie4\n",
            "\n",
            "   Your Bill  \n",
            "Item Names : ['Pizza', 'Burger', 'Coffie']\n",
            "Prices of item : [400, 150, 100]\n",
            "Discount on items: [10, 5, 4]\n",
            "Final Price After Discount : [360.0, 142.5, 96.0]\n",
            "Total Price: 598.5\n"
          ]
        }
      ]
    },
    {
      "cell_type": "code",
      "source": [],
      "metadata": {
        "id": "0mbS7OR-4T8Z"
      },
      "execution_count": null,
      "outputs": []
    }
  ]
}
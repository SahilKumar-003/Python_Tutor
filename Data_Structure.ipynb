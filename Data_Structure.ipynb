{
  "nbformat": 4,
  "nbformat_minor": 0,
  "metadata": {
    "colab": {
      "provenance": [],
      "authorship_tag": "ABX9TyMsVWhcUK/rFW18d5APRU7S",
      "include_colab_link": true
    },
    "kernelspec": {
      "name": "python3",
      "display_name": "Python 3"
    },
    "language_info": {
      "name": "python"
    }
  },
  "cells": [
    {
      "cell_type": "markdown",
      "metadata": {
        "id": "view-in-github",
        "colab_type": "text"
      },
      "source": [
        "<a href=\"https://colab.research.google.com/github/SahilKumar-003/Python_Tutor/blob/main/Data_Structure.ipynb\" target=\"_parent\"><img src=\"https://colab.research.google.com/assets/colab-badge.svg\" alt=\"Open In Colab\"/></a>"
      ]
    },
    {
      "cell_type": "markdown",
      "source": [
        "**DATA STRUCTUTRE**\n",
        "***List, Tuples, Set, Dictionary***\n"
      ],
      "metadata": {
        "id": "24pixRQv04x7"
      }
    },
    {
      "cell_type": "code",
      "source": [
        "item_name = [\"Pizza\",\"Burger\",\"Pasta\",\"Coffie\",\"Tea\",\"Mango Shake\"]\n",
        "prices = [150,77,99,49,20,60]\n",
        "discounts = [3,3,3,2,0,2]\n",
        "total = 0\n",
        "disc = 10\n",
        "print(\"Item Names:\",item_name)\n",
        "print(\"Prices:\",prices)\n",
        "print(\"Discounts:\",discounts)\n",
        "print(prices[2])\n",
        "for price in prices:\n",
        "  total += price\n",
        "after_discount = total - (total*10)/100\n",
        "print(\"Total Bill:\",total)\n",
        "print(\"Prices after Discount:\",after_discount)"
      ],
      "metadata": {
        "colab": {
          "base_uri": "https://localhost:8080/"
        },
        "id": "8qDhGyz71J1K",
        "outputId": "517bf88a-e1d4-4991-9cd6-1cb0c9cd3e36"
      },
      "execution_count": null,
      "outputs": [
        {
          "output_type": "stream",
          "name": "stdout",
          "text": [
            "Item Names: ['Pizza', 'Burger', 'Pasta', 'Coffie', 'Tea', 'Mango Shake']\n",
            "Prices: [150, 77, 99, 49, 20, 60]\n",
            "Discounts: [3, 3, 3, 2, 0, 2]\n",
            "99\n",
            "Total Bill: 455\n",
            "Prices after Discount: 409.5\n"
          ]
        }
      ]
    },
    {
      "cell_type": "code",
      "source": [
        "a = [10,20,30,40,50]\n",
        "print(a[1])\n",
        "num = 30\n",
        "if num in a:\n",
        "  print(\"Avaliable\")\n",
        "else:\n",
        "  print(\"Not avaliable\")\n",
        "print(a[-5:-1])\n"
      ],
      "metadata": {
        "colab": {
          "base_uri": "https://localhost:8080/"
        },
        "id": "KQya-7Gx2Dnc",
        "outputId": "f5f92af0-750d-41cf-b281-4770e1efde61"
      },
      "execution_count": null,
      "outputs": [
        {
          "output_type": "stream",
          "name": "stdout",
          "text": [
            "20\n",
            "Avaliable\n",
            "[10, 20, 30, 40]\n"
          ]
        }
      ]
    },
    {
      "cell_type": "code",
      "source": [
        "a = [10,20,30,40,50]\n",
        "sum = 0\n",
        "for values in a:\n",
        "  print(values)\n",
        "  sum += values\n",
        "print(\"Total\",sum)\n",
        "a.append(60)    # .append() function\n",
        "print(a)"
      ],
      "metadata": {
        "colab": {
          "base_uri": "https://localhost:8080/"
        },
        "id": "KCmVeRjR3yXj",
        "outputId": "71898f4c-e0f8-4366-b976-72777ab14f76"
      },
      "execution_count": null,
      "outputs": [
        {
          "output_type": "stream",
          "name": "stdout",
          "text": [
            "10\n",
            "20\n",
            "30\n",
            "40\n",
            "50\n",
            "Total 150\n",
            "[10, 20, 30, 40, 50, 60]\n"
          ]
        }
      ]
    },
    {
      "cell_type": "code",
      "source": [
        "a = [10,20,30,40,50]\n",
        "a[1] = 50\n",
        "a.remove(40)    # .pop() function, .push() function\n",
        "a.pop()\n",
        "print(a)\n",
        "\n"
      ],
      "metadata": {
        "colab": {
          "base_uri": "https://localhost:8080/"
        },
        "id": "fwfmU_4r6Wr8",
        "outputId": "ea5a0d6c-e48a-4d05-8f41-efed3d17af64"
      },
      "execution_count": null,
      "outputs": [
        {
          "output_type": "stream",
          "name": "stdout",
          "text": [
            "[10, 50, 30]\n"
          ]
        }
      ]
    },
    {
      "cell_type": "code",
      "source": [
        "# Restaurant Billing System\n",
        "items = []\n",
        "prices = []\n",
        "discounts = []\n",
        "coupens = [\"SAVE10%\",\"SAHIL\",\"OFFER20\",\"WINNER005\"]\n",
        "coupen_discount =[10,15,20,40]\n",
        "# discounted_prices = []\n",
        "total_price = 0\n",
        "total_discount = 0\n",
        "final_price = 0\n",
        "n = int(input(\"Enter Number Of Items:\"))\n",
        "for item in range(n):\n",
        "  item = input(f\"Enter Your {item+1} item:\")\n",
        "  items.append(item)\n",
        "\n",
        "  price = int(input(f\"Enter the price of {item} : \"))\n",
        "  prices.append(price)\n",
        "  total_price += price\n",
        "\n",
        "  discount = int(input(f\"Enter the Dicount on {item}:\"))\n",
        "  discounts.append(discount)\n",
        "  total_discount += discount\n",
        "\n",
        "  # item_price_after_Discount =  price - (price*discount)/100\n",
        "  # discounted_prices.append(item_price_after_Discount)\n",
        "  # final_price += item_price_after_Discount\n",
        "\n",
        "final_price = total_price - (total_price*total_discount)/100\n",
        "\n",
        "\n",
        "coupen_code = input(\"Enter Coupon Code:\")\n",
        "# coupen_discount = 10\n",
        "# if Coupen_code == \"SAHIL\":\n",
        "#   final_price = final_price - (final_price*coupen_discount)/100\n",
        "# else:\n",
        "#   print(\"invalid coupen code\")\n",
        "if coupen_code in coupens:\n",
        "  index = coupens.index(coupen_code)\n",
        "  final_price = final_price -(final_price*coupen_discount[index])/100\n",
        "else:\n",
        "    (\"invalid Coupen Code\")\n",
        "\n",
        "print(\"\\n   Your Bill  \")\n",
        "print(\"Item Names :\",items)\n",
        "print(\"Prices of item :\",prices)\n",
        "print(\"Discount on items:\",discounts,\"\\nTotal Discount:\",total_discount)\n",
        "# print(\"Final Price After Discount :\", discounted_prices)\n",
        "print(\"Total Price:\",final_price)\n",
        "\n",
        "\n",
        "\n",
        "\n",
        "\n"
      ],
      "metadata": {
        "id": "l6EupGfJ77ou",
        "colab": {
          "base_uri": "https://localhost:8080/"
        },
        "outputId": "4e9df997-b11a-4e7d-8699-2a20617131c3"
      },
      "execution_count": null,
      "outputs": [
        {
          "output_type": "stream",
          "name": "stdout",
          "text": [
            "Enter Number Of Items:2\n",
            "Enter Your 1 item:pizza\n",
            "Enter the price of pizza : 200\n",
            "Enter the Dicount on pizza:5\n",
            "Enter Your 2 item:pasta\n",
            "Enter the price of pasta : 150\n",
            "Enter the Dicount on pasta:5\n",
            "Enter Coupon Code:OFFER20\n",
            "\n",
            "   Your Bill  \n",
            "Item Names : ['pizza', 'pasta']\n",
            "Prices of item : [200, 150]\n",
            "Discount on items: [5, 5] \n",
            "Total Discount: 10\n",
            "Total Price: 252.0\n"
          ]
        }
      ]
    },
    {
      "cell_type": "code",
      "source": [
        "# Restaurant billing system using list\n",
        "items = []\n",
        "prices = []\n",
        "discounts = []\n",
        "price_after_discount = []\n",
        "coupens = [\"SAVE10%\",\"SAHIL\",\"OFFER20\",\"WINNER005\"]\n",
        "coupen_discount =[10,15,20,40]\n",
        "total_price = 0\n",
        "final_price = 0\n",
        "n = int(input(\"Enter Number of Selected Items:\"))\n",
        "for item in range(n):\n",
        "  item = input(f\"Enter your {item+1} item:\")\n",
        "  items.append(item)\n",
        "\n",
        "  price = int(input(f\"Enter the price of {item}:\"))\n",
        "  prices.append(price)\n",
        "  total_price += price\n",
        "\n",
        "  discount = int(input(f\"Enter the Discount on {item}:\"))\n",
        "  discounts.append(discount)\n",
        "\n",
        "  discounted_price = price - (price*discount)/100\n",
        "  price_after_discount.append(discounted_price)\n",
        "  final_price += discounted_price\n",
        "paying_price = final_price\n",
        "apply_coupen = input(\"Enter Coupen Code:\")\n",
        "if apply_coupen in coupens :\n",
        "  index = coupens.index(apply_coupen)\n",
        "  paying_price = final_price - (final_price*coupen_discount[index])/100\n",
        "else:\n",
        "  paying_price = final_price\n",
        "\n",
        "print(\"\\n....Retreat Restaurants....\")\n",
        "print(\"       Your Bill           \")\n",
        "print(\"Items Names:\",items,\"\\nPrice of Items :\",prices,\"\\nDiscount Given on items:\",discounts)\n",
        "print(\"Price After Discount :\",price_after_discount)\n",
        "print(\"Total Price:\",total_price)\n",
        "print(\"Payable Price:\",final_price)\n",
        "print(\"Price After Cupon:\",paying_price)\n"
      ],
      "metadata": {
        "id": "0mbS7OR-4T8Z",
        "colab": {
          "base_uri": "https://localhost:8080/"
        },
        "outputId": "1a0bc54c-e289-4766-8c02-b197f79d4527"
      },
      "execution_count": null,
      "outputs": [
        {
          "output_type": "stream",
          "name": "stdout",
          "text": [
            "Enter Number of Selected Items:2\n",
            "Enter your 1 item:pizza\n",
            "Enter the price of pizza:500\n",
            "Enter the Discount on pizza:10\n",
            "Enter your 2 item:pasta\n",
            "Enter the price of pasta:200\n",
            "Enter the Discount on pasta:5\n",
            "Enter Coupen Code:SAHIL\n",
            "\n",
            "....Retreat Restaurants....\n",
            "       Your Bill           \n",
            "Items Names: ['pizza', 'pasta'] \n",
            "Price of Items : [500, 200] \n",
            "Discount Given on items: [10, 5]\n",
            "Price After Discount : [450.0, 190.0]\n",
            "Total Price: 700\n",
            "Payable Price: 640.0\n",
            "Price After Cupon: 544.0\n"
          ]
        }
      ]
    },
    {
      "cell_type": "code",
      "source": [
        "import matplotlib.pyplot as plt\n",
        "customer_name =[\"Aryan Sharma\",\"Ritesh Thakur\",\"Taniya Kumari\",\"Abhishek Thakur\",\"Ankita Rana\",\"Sakshi Chauhan\",\"Mohan Lal\",\"Anita Kaundal\",\"Anchal Verma\",\"Nitin Dogra\"]\n",
        "states = [\"Himachal Pradesh\",\"Uttar Pradesh\",\"Himachal Pradesh\",\"Delhi\",\"Haryana\",\"Delhi\",\"Punjab\",\"Haryana\",\"Punjab\",\"Himachal Pradesh\"]\n",
        "products = [\"Mobile\",\"Laptop\",\"Mobile\",\"Refrigrator\",\"AC\",\"Laptop\",\"LED\",\"Mobile\",\"Mobile\",\"AC\"]\n",
        "gender = [\"Male\",\"Male\",\"Female\",\"Male\",\"Female\",\"Female\",\"Male\",\"Female\",\"Female\",\"Male\"]\n",
        "amount = [32000,60000,25000,15000,20000,85000,45000,12000,17000,18000]\n",
        "#State Wise Sale\n",
        "unique_state = []\n",
        "state_wise_sale = []\n",
        "for  elements in states:\n",
        "  if elements not in unique_state:\n",
        "    unique_state.append(elements)\n",
        "    state_wise_sale.append(0)\n",
        "\n",
        "print(unique_state)\n",
        "# print(state_wise_sale)\n",
        "for i in range(len(states)):\n",
        "  index = unique_state.index(states[i])           #index will come as 0,1,2\n",
        "  state_wise_sale[index] = state_wise_sale[index] + amount[i]\n",
        "print(state_wise_sale)\n",
        "plt.bar(unique_state,state_wise_sale)\n",
        "plt.show()\n",
        "\n",
        "#products Wise sales\n",
        "unique_products = []\n",
        "product_wise_sale = []\n",
        "for items in products :\n",
        "  if items not in unique_products:\n",
        "    unique_products.append(items)\n",
        "    product_wise_sale.append(0)\n",
        "print(unique_products)\n",
        "\n",
        "for i in range(len(products)):\n",
        "  index2 = unique_products.index(products[i])\n",
        "  product_wise_sale[index2] = product_wise_sale[index2] + amount[i]\n",
        "print(product_wise_sale)\n",
        "plt.bar(unique_products,product_wise_sale)\n",
        "plt.show()"
      ],
      "metadata": {
        "id": "mLSLTuJYxYbd",
        "colab": {
          "base_uri": "https://localhost:8080/",
          "height": 930
        },
        "outputId": "ce6e52ad-70d2-476a-d7d8-ef0190624dff"
      },
      "execution_count": null,
      "outputs": [
        {
          "output_type": "stream",
          "name": "stdout",
          "text": [
            "['Himachal Pradesh', 'Uttar Pradesh', 'Delhi', 'Haryana', 'Punjab']\n",
            "[0, 0, 0, 0, 0]\n",
            "[75000, 60000, 100000, 32000, 62000]\n"
          ]
        },
        {
          "output_type": "display_data",
          "data": {
            "text/plain": [
              "<Figure size 640x480 with 1 Axes>"
            ],
            "image/png": "[encoded data removed]"
          },
          "metadata": {}
        },
        {
          "output_type": "stream",
          "name": "stdout",
          "text": [
            "['Mobile', 'Laptop', 'Refrigrator', 'AC', 'LED']\n",
            "[86000, 145000, 15000, 38000, 45000]\n"
          ]
        },
        {
          "output_type": "display_data",
          "data": {
            "text/plain": [
              "<Figure size 640x480 with 1 Axes>"
            ],
            "image/png": "[encoded data removed]"
          },
          "metadata": {}
        }
      ]
    },
    {
      "cell_type": "code",
      "source": [
        "customer_name =[\"Aryan Sharma\",\"Ritesh Thakur\",\"Taniya Kumari\",\"Abhishek Thakur\",\"Ankita Rana\",\"Sakshi Chauhan\",\"Mohan Lal\",\"Anita Kaundal\",\"Anchal Verma\",\"Nitin Dogra\"]\n",
        "states = [\"Himachal Pradesh\",\"Uttar Pradesh\",\"Himachal Pradesh\",\"Delhi\",\"Haryana\",\"Delhi\",\"Punjab\",\"Haryana\",\"Punjab\",\"Himachal Pradesh\"]\n",
        "products = [\"Mobile\",\"Laptop\",\"Mobile\",\"Refrigrator\",\"AC\",\"Laptop\",\"LED\",\"Mobile\",\"Mobile\",\"AC\"]\n",
        "gender = [\"Male\",\"Male\",\"Female\",\"Male\",\"Female\",\"Female\",\"Male\",\"Female\",\"Female\",\"Male\"]\n",
        "cost_price = [32000,60000,25000,15000,20000,85000,45000,12000,17000,18000]\n",
        "selling_price = [35000,63000,24000,12000,24000,89000,42000,14000,19000,23000]\n",
        "\n",
        "# Product Wise Profit\n",
        "unique_products = []\n",
        "profits = []\n",
        "product_wise_profit = []\n",
        "\n",
        "for items in products:\n",
        "  if items not in unique_products:\n",
        "    unique_products.append(items)\n",
        "    product_wise_profit.append(0)\n",
        "print(\"Products:\",unique_products)\n",
        "# print(product_wise_profit)\n",
        "\n",
        "for i in range(len(products)):\n",
        "   profit = selling_price[i] - cost_price[i]\n",
        "   profits.append(profit)\n",
        "   index = unique_products.index(products[i])\n",
        "   product_wise_profit[index] = product_wise_profit[index] + profits[i]\n",
        "print(\"Products Wise Profit:\",product_wise_profit)\n",
        "# print(profits)\n",
        "\n",
        "import matplotlib.pyplot as plt\n",
        "plt.bar(unique_products,product_wise_profit)\n",
        "plt.show()"
      ],
      "metadata": {
        "colab": {
          "base_uri": "https://localhost:8080/",
          "height": 482
        },
        "id": "0iVrFqKYKrW9",
        "outputId": "5ecdee0b-59ad-4810-bbd8-d554cd59879c"
      },
      "execution_count": null,
      "outputs": [
        {
          "output_type": "stream",
          "name": "stdout",
          "text": [
            "Products: ['Mobile', 'Laptop', 'Refrigrator', 'AC', 'LED']\n",
            "Products Wise Profit: [6000, 7000, -3000, 9000, -3000]\n",
            "[3000, 3000, -1000, -3000, 4000, 4000, -3000, 2000, 2000, 5000]\n"
          ]
        },
        {
          "output_type": "display_data",
          "data": {
            "text/plain": [
              "<Figure size 640x480 with 1 Axes>"
            ],
            "image/png": "[encoded data removed]"
          },
          "metadata": {}
        }
      ]
    },
    {
      "cell_type": "code",
      "source": [
        "# Covid-19 Cases\n",
        "# states = [\"Assam\",\"Maharashtra\",\"Kerla\",\"Bihar\",\"Himachal\",\"Jammu kashmir\"]\n",
        "cities = [\"Guwahti\",\"Mumbai\",\"Bangalurur\",\"Patna\",\"Dharmashla\",\"Jammu\",]\n",
        "active_cases = [50,100,75,24,45,30,]\n",
        "deaths = [10,26,30,12,9,5]\n",
        "recovered = []\n",
        "for i in range(len(active_cases)) :\n",
        "  # recovered.append(0)\n",
        "  recover = active_cases[i] - deaths[i]\n",
        "  recovered.append(recover)\n",
        "print(recovered)\n",
        "\n",
        "#cities wise Deaths\n",
        "import matplotlib.pyplot as plt\n",
        "plt.bar(cities,deaths)\n",
        "plt.show()\n",
        "\n",
        "#Cities Wise Recovery\n",
        "plt.bar(cities,recovered)\n",
        "plt.show()\n"
      ],
      "metadata": {
        "colab": {
          "base_uri": "https://localhost:8080/",
          "height": 860
        },
        "id": "PjRcPFvKlbOJ",
        "outputId": "6453d26c-5345-4a8d-e306-eeafe5788f72"
      },
      "execution_count": 13,
      "outputs": [
        {
          "output_type": "stream",
          "name": "stdout",
          "text": [
            "[40, 74, 45, 12, 36, 25]\n"
          ]
        },
        {
          "output_type": "display_data",
          "data": {
            "text/plain": [
              "<Figure size 640x480 with 1 Axes>"
            ],
            "image/png": "[encoded data removed]"
          },
          "metadata": {}
        },
        {
          "output_type": "display_data",
          "data": {
            "text/plain": [
              "<Figure size 640x480 with 1 Axes>"
            ],
            "image/png": "[encoded data removed]"
          },
          "metadata": {}
        }
      ]
    },
    {
      "cell_type": "code",
      "source": [],
      "metadata": {
        "id": "hVF4iwb_sGTK"
      },
      "execution_count": null,
      "outputs": []
    }
  ]
}
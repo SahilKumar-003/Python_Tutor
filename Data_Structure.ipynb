{
  "nbformat": 4,
  "nbformat_minor": 0,
  "metadata": {
    "colab": {
      "provenance": [],
      "authorship_tag": "ABX9TyO9W6Req5PsW1g4rlBO8RMP",
      "include_colab_link": true
    },
    "kernelspec": {
      "name": "python3",
      "display_name": "Python 3"
    },
    "language_info": {
      "name": "python"
    }
  },
  "cells": [
    {
      "cell_type": "markdown",
      "metadata": {
        "id": "view-in-github",
        "colab_type": "text"
      },
      "source": [
        "<a href=\"https://colab.research.google.com/github/SahilKumar-003/Python_Tutor/blob/main/Data_Structure.ipynb\" target=\"_parent\"><img src=\"https://colab.research.google.com/assets/colab-badge.svg\" alt=\"Open In Colab\"/></a>"
      ]
    },
    {
      "cell_type": "markdown",
      "source": [
        "**DATA STRUCTUTRE**\n",
        "***List, Tuples, Set, Dictionary***\n"
      ],
      "metadata": {
        "id": "24pixRQv04x7"
      }
    },
    {
      "cell_type": "code",
      "source": [
        "item_name = [\"Pizza\",\"Burger\",\"Pasta\",\"Coffie\",\"Tea\",\"Mango Shake\"]\n",
        "prices = [150,77,99,49,20,60]\n",
        "discounts = [3,3,3,2,0,2]\n",
        "total = 0\n",
        "disc = 10\n",
        "print(\"Item Names:\",item_name)\n",
        "print(\"Prices:\",prices)\n",
        "print(\"Discounts:\",discounts)\n",
        "print(prices[2])\n",
        "for price in prices:\n",
        "  total += price\n",
        "after_discount = total - (total*10)/100\n",
        "print(\"Total Bill:\",total)\n",
        "print(\"Prices after Discount:\",after_discount)"
      ],
      "metadata": {
        "colab": {
          "base_uri": "https://localhost:8080/"
        },
        "id": "8qDhGyz71J1K",
        "outputId": "517bf88a-e1d4-4991-9cd6-1cb0c9cd3e36"
      },
      "execution_count": null,
      "outputs": [
        {
          "output_type": "stream",
          "name": "stdout",
          "text": [
            "Item Names: ['Pizza', 'Burger', 'Pasta', 'Coffie', 'Tea', 'Mango Shake']\n",
            "Prices: [150, 77, 99, 49, 20, 60]\n",
            "Discounts: [3, 3, 3, 2, 0, 2]\n",
            "99\n",
            "Total Bill: 455\n",
            "Prices after Discount: 409.5\n"
          ]
        }
      ]
    },
    {
      "cell_type": "code",
      "source": [
        "a = [10,20,30,40,50]\n",
        "print(a[1])\n",
        "num = 30\n",
        "if num in a:\n",
        "  print(\"Avaliable\")\n",
        "else:\n",
        "  print(\"Not avaliable\")\n",
        "print(a[-5:-1])\n"
      ],
      "metadata": {
        "colab": {
          "base_uri": "https://localhost:8080/"
        },
        "id": "KQya-7Gx2Dnc",
        "outputId": "f5f92af0-750d-41cf-b281-4770e1efde61"
      },
      "execution_count": null,
      "outputs": [
        {
          "output_type": "stream",
          "name": "stdout",
          "text": [
            "20\n",
            "Avaliable\n",
            "[10, 20, 30, 40]\n"
          ]
        }
      ]
    },
    {
      "cell_type": "code",
      "source": [
        "a = [10,20,30,40,50]\n",
        "sum = 0\n",
        "for values in a:\n",
        "  print(values)\n",
        "  sum += values\n",
        "print(\"Total\",sum)\n",
        "a.append(60)    # .append() function\n",
        "print(a)"
      ],
      "metadata": {
        "colab": {
          "base_uri": "https://localhost:8080/"
        },
        "id": "KCmVeRjR3yXj",
        "outputId": "71898f4c-e0f8-4366-b976-72777ab14f76"
      },
      "execution_count": null,
      "outputs": [
        {
          "output_type": "stream",
          "name": "stdout",
          "text": [
            "10\n",
            "20\n",
            "30\n",
            "40\n",
            "50\n",
            "Total 150\n",
            "[10, 20, 30, 40, 50, 60]\n"
          ]
        }
      ]
    },
    {
      "cell_type": "code",
      "source": [
        "a = [10,20,30,40,50]\n",
        "a[1] = 50\n",
        "a.remove(40)    # .pop() function, .push() function\n",
        "a.pop()\n",
        "print(a)\n",
        "\n"
      ],
      "metadata": {
        "colab": {
          "base_uri": "https://localhost:8080/"
        },
        "id": "fwfmU_4r6Wr8",
        "outputId": "ea5a0d6c-e48a-4d05-8f41-efed3d17af64"
      },
      "execution_count": null,
      "outputs": [
        {
          "output_type": "stream",
          "name": "stdout",
          "text": [
            "[10, 50, 30]\n"
          ]
        }
      ]
    },
    {
      "cell_type": "code",
      "source": [
        "# Restaurant Billing System\n",
        "items = []\n",
        "prices = []\n",
        "discounts = []\n",
        "coupens = [\"SAVE10%\",\"SAHIL\",\"OFFER20\",\"WINNER005\"]\n",
        "coupen_discount =[10,15,20,40]\n",
        "# discounted_prices = []\n",
        "total_price = 0\n",
        "total_discount = 0\n",
        "final_price = 0\n",
        "n = int(input(\"Enter Number Of Items:\"))\n",
        "for item in range(n):\n",
        "  item = input(f\"Enter Your {item+1} item:\")\n",
        "  items.append(item)\n",
        "\n",
        "  price = int(input(f\"Enter the price of {item} : \"))\n",
        "  prices.append(price)\n",
        "  total_price += price\n",
        "\n",
        "  discount = int(input(f\"Enter the Dicount on {item}:\"))\n",
        "  discounts.append(discount)\n",
        "  total_discount += discount\n",
        "\n",
        "  # item_price_after_Discount =  price - (price*discount)/100\n",
        "  # discounted_prices.append(item_price_after_Discount)\n",
        "  # final_price += item_price_after_Discount\n",
        "\n",
        "final_price = total_price - (total_price*total_discount)/100\n",
        "\n",
        "\n",
        "coupen_code = input(\"Enter Coupon Code:\")\n",
        "# coupen_discount = 10\n",
        "# if Coupen_code == \"SAHIL\":\n",
        "#   final_price = final_price - (final_price*coupen_discount)/100\n",
        "# else:\n",
        "#   print(\"invalid coupen code\")\n",
        "if coupen_code in coupens:\n",
        "  index = coupens.index(coupen_code)\n",
        "  final_price = final_price -(final_price*coupen_discount[index])/100\n",
        "else:\n",
        "    (\"invalid Coupen Code\")\n",
        "\n",
        "print(\"\\n   Your Bill  \")\n",
        "print(\"Item Names :\",items)\n",
        "print(\"Prices of item :\",prices)\n",
        "print(\"Discount on items:\",discounts,\"\\nTotal Discount:\",total_discount)\n",
        "# print(\"Final Price After Discount :\", discounted_prices)\n",
        "print(\"Total Price:\",final_price)\n",
        "\n",
        "\n",
        "\n",
        "\n",
        "\n"
      ],
      "metadata": {
        "id": "l6EupGfJ77ou",
        "colab": {
          "base_uri": "https://localhost:8080/"
        },
        "outputId": "4e9df997-b11a-4e7d-8699-2a20617131c3"
      },
      "execution_count": null,
      "outputs": [
        {
          "output_type": "stream",
          "name": "stdout",
          "text": [
            "Enter Number Of Items:2\n",
            "Enter Your 1 item:pizza\n",
            "Enter the price of pizza : 200\n",
            "Enter the Dicount on pizza:5\n",
            "Enter Your 2 item:pasta\n",
            "Enter the price of pasta : 150\n",
            "Enter the Dicount on pasta:5\n",
            "Enter Coupon Code:OFFER20\n",
            "\n",
            "   Your Bill  \n",
            "Item Names : ['pizza', 'pasta']\n",
            "Prices of item : [200, 150]\n",
            "Discount on items: [5, 5] \n",
            "Total Discount: 10\n",
            "Total Price: 252.0\n"
          ]
        }
      ]
    },
    {
      "cell_type": "code",
      "source": [
        "# Restaurant billing system using list\n",
        "items = []\n",
        "prices = []\n",
        "discounts = []\n",
        "price_after_discount = []\n",
        "coupens = [\"SAVE10%\",\"SAHIL\",\"OFFER20\",\"WINNER005\"]\n",
        "coupen_discount =[10,15,20,40]\n",
        "total_price = 0\n",
        "final_price = 0\n",
        "n = int(input(\"Enter Number of Selected Items:\"))\n",
        "for item in range(n):\n",
        "  item = input(f\"Enter your {item+1} item:\")\n",
        "  items.append(item)\n",
        "\n",
        "  price = int(input(f\"Enter the price of {item}:\"))\n",
        "  prices.append(price)\n",
        "  total_price += price\n",
        "\n",
        "  discount = int(input(f\"Enter the Discount on {item}:\"))\n",
        "  discounts.append(discount)\n",
        "\n",
        "  discounted_price = price - (price*discount)/100\n",
        "  price_after_discount.append(discounted_price)\n",
        "  final_price += discounted_price\n",
        "paying_price = final_price\n",
        "apply_coupen = input(\"Enter Coupen Code:\")\n",
        "if apply_coupen in coupens :\n",
        "  index = coupens.index(apply_coupen)\n",
        "  paying_price = final_price - (final_price*coupen_discount[index])/100\n",
        "else:\n",
        "  paying_price = final_price\n",
        "\n",
        "print(\"\\n....Retreat Restaurants....\")\n",
        "print(\"       Your Bill           \")\n",
        "print(\"Items Names:\",items,\"\\nPrice of Items :\",prices,\"\\nDiscount Given on items:\",discounts)\n",
        "print(\"Price After Discount :\",price_after_discount)\n",
        "print(\"Total Price:\",total_price)\n",
        "print(\"Payable Price:\",final_price)\n",
        "print(\"Price After Cupon:\",paying_price)\n"
      ],
      "metadata": {
        "id": "0mbS7OR-4T8Z",
        "colab": {
          "base_uri": "https://localhost:8080/"
        },
        "outputId": "1a0bc54c-e289-4766-8c02-b197f79d4527"
      },
      "execution_count": null,
      "outputs": [
        {
          "output_type": "stream",
          "name": "stdout",
          "text": [
            "Enter Number of Selected Items:2\n",
            "Enter your 1 item:pizza\n",
            "Enter the price of pizza:500\n",
            "Enter the Discount on pizza:10\n",
            "Enter your 2 item:pasta\n",
            "Enter the price of pasta:200\n",
            "Enter the Discount on pasta:5\n",
            "Enter Coupen Code:SAHIL\n",
            "\n",
            "....Retreat Restaurants....\n",
            "       Your Bill           \n",
            "Items Names: ['pizza', 'pasta'] \n",
            "Price of Items : [500, 200] \n",
            "Discount Given on items: [10, 5]\n",
            "Price After Discount : [450.0, 190.0]\n",
            "Total Price: 700\n",
            "Payable Price: 640.0\n",
            "Price After Cupon: 544.0\n"
          ]
        }
      ]
    },
    {
      "cell_type": "code",
      "source": [
        "import matplotlib.pyplot as plt\n",
        "customer_name =[\"Aryan Sharma\",\"Ritesh Thakur\",\"Taniya Kumari\",\"Abhishek Thakur\",\"Ankita Rana\",\"Sakshi Chauhan\",\"Mohan Lal\",\"Anita Kaundal\",\"Anchal Verma\",\"Nitin Dogra\"]\n",
        "states = [\"Himachal Pradesh\",\"Uttar Pradesh\",\"Himachal Pradesh\",\"Delhi\",\"Haryana\",\"Delhi\",\"Punjab\",\"Haryana\",\"Punjab\",\"Himachal Pradesh\"]\n",
        "products = [\"Mobile\",\"Laptop\",\"Mobile\",\"Refrigrator\",\"AC\",\"Laptop\",\"LED\",\"Mobile\",\"Mobile\",\"AC\"]\n",
        "gender = [\"Male\",\"Male\",\"Female\",\"Male\",\"Female\",\"Female\",\"Male\",\"Female\",\"Female\",\"Male\"]\n",
        "amount = [32000,60000,25000,15000,20000,85000,45000,12000,17000,18000]\n",
        "#State Wise Sale\n",
        "unique_state = []\n",
        "state_wise_sale = []\n",
        "for  elements in states:\n",
        "  if elements not in unique_state:\n",
        "    unique_state.append(elements)\n",
        "    state_wise_sale.append(0)\n",
        "\n",
        "print(unique_state)\n",
        "# print(state_wise_sale)\n",
        "for i in range(len(states)):\n",
        "  index = unique_state.index(states[i])           #index will come as 0,1,2\n",
        "  state_wise_sale[index] = state_wise_sale[index] + amount[i]\n",
        "print(state_wise_sale)\n",
        "plt.bar(unique_state,state_wise_sale)\n",
        "plt.show()\n",
        "\n",
        "#products Wise sales\n",
        "unique_products = []\n",
        "product_wise_sale = []\n",
        "for items in products :\n",
        "  if items not in unique_products:\n",
        "    unique_products.append(items)\n",
        "    product_wise_sale.append(0)\n",
        "print(unique_products)\n",
        "\n",
        "for i in range(len(products)):\n",
        "  index2 = unique_products.index(products[i])\n",
        "  product_wise_sale[index2] = product_wise_sale[index2] + amount[i]\n",
        "print(product_wise_sale)\n",
        "plt.bar(unique_products,product_wise_sale)\n",
        "plt.show()"
      ],
      "metadata": {
        "id": "mLSLTuJYxYbd",
        "colab": {
          "base_uri": "https://localhost:8080/",
          "height": 930
        },
        "outputId": "ce6e52ad-70d2-476a-d7d8-ef0190624dff"
      },
      "execution_count": null,
      "outputs": [
        {
          "output_type": "stream",
          "name": "stdout",
          "text": [
            "['Himachal Pradesh', 'Uttar Pradesh', 'Delhi', 'Haryana', 'Punjab']\n",
            "[0, 0, 0, 0, 0]\n",
            "[75000, 60000, 100000, 32000, 62000]\n"
          ]
        },
        {
          "output_type": "display_data",
          "data": {
            "text/plain": [
              "<Figure size 640x480 with 1 Axes>"
            ],
            "image/png": "[encoded data removed]"
          },
          "metadata": {}
        },
        {
          "output_type": "stream",
          "name": "stdout",
          "text": [
            "['Mobile', 'Laptop', 'Refrigrator', 'AC', 'LED']\n",
            "[86000, 145000, 15000, 38000, 45000]\n"
          ]
        },
        {
          "output_type": "display_data",
          "data": {
            "text/plain": [
              "<Figure size 640x480 with 1 Axes>"
            ],
            "image/png": "[encoded data removed]"
          },
          "metadata": {}
        }
      ]
    },
    {
      "cell_type": "code",
      "source": [
        "customer_name =[\"Aryan Sharma\",\"Ritesh Thakur\",\"Taniya Kumari\",\"Abhishek Thakur\",\"Ankita Rana\",\"Sakshi Chauhan\",\"Mohan Lal\",\"Anita Kaundal\",\"Anchal Verma\",\"Nitin Dogra\"]\n",
        "states = [\"Himachal Pradesh\",\"Uttar Pradesh\",\"Himachal Pradesh\",\"Delhi\",\"Haryana\",\"Delhi\",\"Punjab\",\"Haryana\",\"Punjab\",\"Himachal Pradesh\"]\n",
        "products = [\"Mobile\",\"Laptop\",\"Mobile\",\"Refrigrator\",\"AC\",\"Laptop\",\"LED\",\"Mobile\",\"Mobile\",\"AC\"]\n",
        "gender = [\"Male\",\"Male\",\"Female\",\"Male\",\"Female\",\"Female\",\"Male\",\"Female\",\"Female\",\"Male\"]\n",
        "cost_price = [32000,60000,25000,15000,20000,85000,45000,12000,17000,18000]\n",
        "selling_price = [35000,63000,24000,12000,24000,89000,42000,14000,19000,23000]\n",
        "\n",
        "# Product Wise Profit\n",
        "unique_products = []\n",
        "profits = []\n",
        "product_wise_profit = []\n",
        "\n",
        "for items in products:\n",
        "  if items not in unique_products:\n",
        "    unique_products.append(items)\n",
        "    product_wise_profit.append(0)\n",
        "print(\"Products:\",unique_products)\n",
        "# print(product_wise_profit)\n",
        "\n",
        "for i in range(len(products)):\n",
        "   profit = selling_price[i] - cost_price[i]\n",
        "   profits.append(profit)\n",
        "   index = unique_products.index(products[i])\n",
        "   product_wise_profit[index] = product_wise_profit[index] + profits[i]\n",
        "print(\"Products Wise Profit:\",product_wise_profit)\n",
        "# print(profits)\n",
        "\n",
        "import matplotlib.pyplot as plt\n",
        "plt.bar(unique_products,product_wise_profit)\n",
        "plt.show()"
      ],
      "metadata": {
        "colab": {
          "base_uri": "https://localhost:8080/",
          "height": 482
        },
        "id": "0iVrFqKYKrW9",
        "outputId": "5ecdee0b-59ad-4810-bbd8-d554cd59879c"
      },
      "execution_count": null,
      "outputs": [
        {
          "output_type": "stream",
          "name": "stdout",
          "text": [
            "Products: ['Mobile', 'Laptop', 'Refrigrator', 'AC', 'LED']\n",
            "Products Wise Profit: [6000, 7000, -3000, 9000, -3000]\n",
            "[3000, 3000, -1000, -3000, 4000, 4000, -3000, 2000, 2000, 5000]\n"
          ]
        },
        {
          "output_type": "display_data",
          "data": {
            "text/plain": [
              "<Figure size 640x480 with 1 Axes>"
            ],
            "image/png": "[encoded data removed]"
          },
          "metadata": {}
        }
      ]
    },
    {
      "cell_type": "code",
      "source": [
        "# Covid-19 Cases\n",
        "# states = [\"Assam\",\"Maharashtra\",\"Kerla\",\"Bihar\",\"Himachal\",\"Jammu kashmir\"]\n",
        "cities = [\"Guwahti\",\"Mumbai\",\"Bangalurur\",\"Patna\",\"Dharmashla\",\"Jammu\",]\n",
        "active_cases = [50,100,75,24,45,30,]\n",
        "deaths = [10,26,30,12,9,5]\n",
        "recovered = []\n",
        "for i in range(len(active_cases)) :\n",
        "  # recovered.append(0)\n",
        "  recover = active_cases[i] - deaths[i]\n",
        "  recovered.append(recover)\n",
        "\n",
        "\n",
        "#cities wise Deaths\n",
        "print(deaths)\n",
        "import matplotlib.pyplot as plt\n",
        "plt.bar(cities,deaths)\n",
        "plt.title(\"Cities Wise Covid Deaths\")\n",
        "plt.show()\n",
        "\n",
        "#Cities Wise Recovery\n",
        "print(recovered)\n",
        "plt.bar(cities,recovered)\n",
        "plt.title(\"Cities Wise Covid Case Recovery\")\n",
        "plt.show()\n"
      ],
      "metadata": {
        "colab": {
          "base_uri": "https://localhost:8080/",
          "height": 922
        },
        "id": "PjRcPFvKlbOJ",
        "outputId": "25e07a42-2538-4535-8b5b-58242972bcdb"
      },
      "execution_count": null,
      "outputs": [
        {
          "output_type": "stream",
          "name": "stdout",
          "text": [
            "[10, 26, 30, 12, 9, 5]\n"
          ]
        },
        {
          "output_type": "display_data",
          "data": {
            "text/plain": [
              "<Figure size 640x480 with 1 Axes>"
            ],
            "image/png": "[encoded data removed]"
          },
          "metadata": {}
        },
        {
          "output_type": "stream",
          "name": "stdout",
          "text": [
            "[40, 74, 45, 12, 36, 25]\n"
          ]
        },
        {
          "output_type": "display_data",
          "data": {
            "text/plain": [
              "<Figure size 640x480 with 1 Axes>"
            ],
            "image/png": "[encoded data removed]"
          },
          "metadata": {}
        }
      ]
    },
    {
      "cell_type": "code",
      "source": [
        "# Tuples\n",
        "a = (9)\n",
        "print(type(a))\n",
        "b = (9,)\n",
        "print(type(b))"
      ],
      "metadata": {
        "id": "hVF4iwb_sGTK",
        "colab": {
          "base_uri": "https://localhost:8080/"
        },
        "outputId": "c541f251-3434-4c72-bac5-0a67cbaf56d8"
      },
      "execution_count": null,
      "outputs": [
        {
          "output_type": "stream",
          "name": "stdout",
          "text": [
            "<class 'int'>\n",
            "<class 'tuple'>\n"
          ]
        }
      ]
    },
    {
      "cell_type": "code",
      "source": [
        "a = (5,10,50,20)\n",
        "sum = 0\n",
        "for i in a :\n",
        "  sum += i\n",
        "print(sum)"
      ],
      "metadata": {
        "colab": {
          "base_uri": "https://localhost:8080/"
        },
        "id": "tOwR6Nx02XAm",
        "outputId": "11e9eaef-9e73-4768-9f38-7645b1e3ec1d"
      },
      "execution_count": null,
      "outputs": [
        {
          "output_type": "stream",
          "name": "stdout",
          "text": [
            "85\n"
          ]
        }
      ]
    },
    {
      "cell_type": "code",
      "source": [
        "# Restraunt Billing System using Tuple\n",
        "items = (\"Pizza\",\"burger\",\"Pasta\",\"Thali\",\"Coffie\",\"Mango Shake\")\n",
        "prices = (500,99,150,120,50,60)\n",
        "total_discount = 10\n",
        "total_price = 0\n",
        "\n",
        "for price in prices:\n",
        "  total_price += price\n",
        "\n",
        "print(\"Items:\",items)\n",
        "print(\"Price Per Items:\",prices)\n",
        "print(\"Total Price:\",total_price)\n",
        "print(\"Discount:\",total_discount)\n",
        "payable_price = total_price - (total_price*total_discount)/100\n",
        "print(\"Payable amount:\",payable_price)"
      ],
      "metadata": {
        "colab": {
          "base_uri": "https://localhost:8080/"
        },
        "id": "OO1PevPq3W8x",
        "outputId": "c7821985-c768-4398-9bb7-425013e4f378"
      },
      "execution_count": null,
      "outputs": [
        {
          "output_type": "stream",
          "name": "stdout",
          "text": [
            "Items: ('Pizza', 'burger', 'Pasta', 'Thali', 'Coffie', 'Mango Shake')\n",
            "Price Per Items: (500, 99, 150, 120, 50, 60)\n",
            "Total Price: 979\n",
            "Discount: 10\n",
            "Payable amount: 881.1\n"
          ]
        }
      ]
    },
    {
      "cell_type": "code",
      "source": [
        "names = (\"arun\",\"Aryan\",\"Nitin\",\"Akshay\",\"Arushi\",\"Komal\")\n",
        "print(names[1:5])\n",
        "print(names[-1:-5:-1])\n",
        "print(names[-5:-1])"
      ],
      "metadata": {
        "colab": {
          "base_uri": "https://localhost:8080/"
        },
        "id": "fQofndJ45lMS",
        "outputId": "685c21d1-f87e-48b1-b2ab-b6a56633a989"
      },
      "execution_count": null,
      "outputs": [
        {
          "output_type": "stream",
          "name": "stdout",
          "text": [
            "('Aryan', 'Nitin', 'Akshay', 'Arushi')\n",
            "('Komal', 'Arushi', 'Akshay', 'Nitin')\n",
            "('Aryan', 'Nitin', 'Akshay', 'Arushi')\n"
          ]
        }
      ]
    },
    {
      "cell_type": "code",
      "source": [
        "# Set   # takes no  duplicate Value and has no indexing\n",
        "a = {1,\"Ram\",1,2,\"sham\",\"Ram\"}\n",
        "print(a)\n",
        "print(type(a))\n"
      ],
      "metadata": {
        "id": "hm9tRmuA2qNZ",
        "colab": {
          "base_uri": "https://localhost:8080/"
        },
        "outputId": "89387b6c-3ab1-42a9-f66f-67e1f1eab3f3"
      },
      "execution_count": null,
      "outputs": [
        {
          "output_type": "stream",
          "name": "stdout",
          "text": [
            "{1, 2, 'sham', 'Ram'}\n",
            "<class 'set'>\n"
          ]
        }
      ]
    },
    {
      "cell_type": "code",
      "source": [
        "#Dictionary\n",
        "employee = {\"Name\": [\"Rahul\",\"Nikhil\",\"Parnit\"],\n",
        "            \"Age\" :[21,20,27],\n",
        "            \"Department\":[\"HR\",\"Analyst\",\"Content Writer\"],\n",
        "            \"Salary\" :[50000,70000,40000]}\n",
        "# employee[\"Age\"].append(26)\n",
        "print(employee)\n",
        "total_salary = 0\n",
        "# for key,values in employee.items():\n",
        "for values in employee['Salary']:\n",
        "    total_salary += values\n",
        "print(\"Total Salary:\",total_salary)"
      ],
      "metadata": {
        "colab": {
          "base_uri": "https://localhost:8080/"
        },
        "id": "6VzZ6E-G9syF",
        "outputId": "dde0b40d-3ead-4eed-c706-5b388b3edfc5"
      },
      "execution_count": null,
      "outputs": [
        {
          "output_type": "stream",
          "name": "stdout",
          "text": [
            "{'Name': ['Rahul', 'Nikhil', 'Parnit'], 'Age': [21, 20, 27, 26], 'Department': ['HR', 'Analyst', 'Content Writer'], 'Salary': [50000, 70000, 40000]}\n",
            "Total Salary: 160000\n"
          ]
        }
      ]
    },
    {
      "cell_type": "code",
      "source": [
        "employee = { \"Name\": \"Ram\", \"Age\" : 24, \"salary\": 5000}\n",
        "print(employee)\n",
        "\n",
        "for keys, values in employee.items():\n",
        "  print(keys, values)"
      ],
      "metadata": {
        "colab": {
          "base_uri": "https://localhost:8080/"
        },
        "id": "aqKCxaGr-bUT",
        "outputId": "431d45ed-d29f-495f-c193-da255765e122"
      },
      "execution_count": null,
      "outputs": [
        {
          "output_type": "stream",
          "name": "stdout",
          "text": [
            "{'Name': 'Ram', 'Age': 24, 'salary': 5000}\n",
            "Name Ram\n",
            "Age 24\n",
            "salary 5000\n"
          ]
        }
      ]
    },
    {
      "cell_type": "code",
      "source": [
        "# Restaurant Billing system Using Dictionary\n",
        "bill = {\"items\":[\"Pasta\",\"Pizza\",\"Coffie\",\"Momos\",\"Sandwich\"],\n",
        "        \"prices\":[150,500,50,100,159],\n",
        "        \"discount\":[5,10,0,4,5],\n",
        "        \"price_after_discount\":[]}\n",
        "total_price = 0\n",
        "payable_price = 0\n",
        "for i in range(len(bill['prices'])):\n",
        "  new_price = bill['prices'][i] - (bill['prices'][i]*bill['discount'][i])/100\n",
        "  bill['price_after_discount'].append(new_price)\n",
        "\n",
        "for price in bill['prices']:\n",
        "  total_price += price\n",
        "for price in bill['price_after_discount']:\n",
        "  payable_price += price\n",
        "\n",
        "print(\"Your Bill is:\",bill)\n",
        "print(\"Total Price:\",total_price)\n",
        "print(\"Payable Price:\",payable_price)\n"
      ],
      "metadata": {
        "colab": {
          "base_uri": "https://localhost:8080/"
        },
        "id": "LvG49-iUByrN",
        "outputId": "cfd63413-0941-4ebf-96e4-ac3d6b6843bc"
      },
      "execution_count": null,
      "outputs": [
        {
          "output_type": "stream",
          "name": "stdout",
          "text": [
            "[142.5, 450.0, 50.0, 96.0, 151.05]\n",
            "Your Bill is: {'items': ['Pasta', 'Pizza', 'Coffie', 'Momos', 'Sandwich'], 'prices': [150, 500, 50, 100, 159], 'discount': [5, 10, 0, 4, 5], 'price_after_discount': [142.5, 450.0, 50.0, 96.0, 151.05]}\n",
            "Total Price: 959\n",
            "Payable Price: 889.55\n"
          ]
        }
      ]
    },
    {
      "cell_type": "code",
      "source": [
        "# #Exception Handling\n",
        "try:\n",
        "  a = 10\n",
        "  b = o\n",
        "  c = a/b\n",
        "except ZeroDivisionError :\n",
        "  print(\"Division not possible by zero\")\n",
        "except NameError:\n",
        "  print(\"Name Error: inputs should be integers\")\n",
        "else:\n",
        "  print(\"Program executed succesfully\")\n",
        "finally:\n",
        "  print(\"Thanks for your visit\")\n",
        "\n"
      ],
      "metadata": {
        "id": "C1tjnxuzMBDG",
        "colab": {
          "base_uri": "https://localhost:8080/"
        },
        "outputId": "884feba9-a691-46ae-dd89-51d44d042b2d"
      },
      "execution_count": null,
      "outputs": [
        {
          "output_type": "stream",
          "name": "stdout",
          "text": [
            "Name Error: inputs should be integers\n",
            "Thanks for your visit\n"
          ]
        }
      ]
    },
    {
      "cell_type": "code",
      "source": [
        "# *agrs\n",
        "def add(*args):\n",
        "  sum = 0\n",
        "  for num in args:\n",
        "    sum += num\n",
        "  return sum\n",
        "add(5,6,5)\n"
      ],
      "metadata": {
        "id": "W8WqWV5nku_K",
        "colab": {
          "base_uri": "https://localhost:8080/"
        },
        "outputId": "82246bfb-2754-4ff0-aa4e-66a0bf105cdf"
      },
      "execution_count": null,
      "outputs": [
        {
          "output_type": "execute_result",
          "data": {
            "text/plain": [
              "16"
            ]
          },
          "metadata": {},
          "execution_count": 9
        }
      ]
    },
    {
      "cell_type": "code",
      "source": [
        "#**kwargs\n",
        "def mul(**kwargs):\n",
        "  result = 1\n",
        "  for keys,values in kwargs.items():\n",
        "    result *= values\n",
        "  return result\n",
        "mul(a = 10, b = 20, c = 10)\n"
      ],
      "metadata": {
        "colab": {
          "base_uri": "https://localhost:8080/"
        },
        "id": "L_nynG7hFOQi",
        "outputId": "5b4fda3a-2533-47f0-b5a4-9200c5cab3e3"
      },
      "execution_count": null,
      "outputs": [
        {
          "output_type": "execute_result",
          "data": {
            "text/plain": [
              "2000"
            ]
          },
          "metadata": {},
          "execution_count": 6
        }
      ]
    },
    {
      "cell_type": "code",
      "source": [
        "print(\"tamatar\")"
      ],
      "metadata": {
        "id": "8ba_RYZaiGPi",
        "colab": {
          "base_uri": "https://localhost:8080/"
        },
        "outputId": "1c507dc4-c3e9-4c96-e748-5adc4302a75a"
      },
      "execution_count": 1,
      "outputs": [
        {
          "output_type": "stream",
          "name": "stdout",
          "text": [
            "tamatar\n"
          ]
        }
      ]
    },
    {
      "cell_type": "code",
      "source": [
        "with open(\"file.txt\",\"w\") as file:\n",
        "  file.write(\"hello Welcome to python\")\n"
      ],
      "metadata": {
        "id": "Z29CLFlOmwoL"
      },
      "execution_count": 2,
      "outputs": []
    },
    {
      "cell_type": "code",
      "source": [
        "with open(\"file.txt\", \"r\") as file:\n",
        "  data = file.read()\n",
        "  print(data)\n"
      ],
      "metadata": {
        "colab": {
          "base_uri": "https://localhost:8080/"
        },
        "id": "jNkh8ixmnNqZ",
        "outputId": "abc6d25a-141a-422a-b2d3-4c1ef31483a4"
      },
      "execution_count": 6,
      "outputs": [
        {
          "output_type": "stream",
          "name": "stdout",
          "text": [
            "hello Welcome to python\n"
          ]
        }
      ]
    },
    {
      "cell_type": "code",
      "source": [
        "with open(\"file.txt\",\"w\") as file:\n",
        "  file.write(\"Hello Namaste Sasriyakal kemcho\")\n",
        ""
      ],
      "metadata": {
        "id": "kh3fFweansoX"
      },
      "execution_count": 8,
      "outputs": []
    },
    {
      "cell_type": "code",
      "source": [
        "with open(\"file.txt\", \"a\") as file:\n",
        "  file.write(\"\\n Welcome to Python World\")"
      ],
      "metadata": {
        "id": "mlDaTlqrpMBT"
      },
      "execution_count": 10,
      "outputs": []
    },
    {
      "cell_type": "code",
      "source": [
        "with open(\"file2.txt\",\"w\") as file:\n",
        "  file.write(\"Hello Sir/mam welcome To Cbitss \\nA Infomation and Technology Institute \\nOffering Multiple IT courses Such as Digital Marketing , Web Devlopment ,Data analyst,\\nData Science,Full Stack Development and \\nother Basic Courses such as Advance Excel,Power point and Photoshop etc\")\n",
        "with open(\"file2.txt\", \"r\") as file:\n",
        "  # data = file.readline    #readline\n",
        "  data = file.readlines()   #readlines\n",
        "  for terms in data:\n",
        "    print(terms)\n",
        ""
      ],
      "metadata": {
        "colab": {
          "base_uri": "https://localhost:8080/"
        },
        "id": "5NX188ScpyXy",
        "outputId": "cab64c32-8f33-4346-e70b-b1a014e55df8"
      },
      "execution_count": 18,
      "outputs": [
        {
          "output_type": "stream",
          "name": "stdout",
          "text": [
            "Hello Sir/mam welcome To Cbitss \n",
            "\n",
            "A Infomation and Technology Institute \n",
            "\n",
            "Offering Multiple IT courses Such as Digital Marketing , Web Devlopment ,Data analyst,\n",
            "\n",
            "Data Science,Full Stack Development and \n",
            "\n",
            "other Basic Courses such as Advance Excel,Power point and Photoshop etc\n"
          ]
        }
      ]
    },
    {
      "cell_type": "code",
      "source": [
        "with open(\"file_I\",\"w\") as file:\n",
        "  file.write(\"Raj\")\n",
        "with open(\"file_I\",\"r\") as file:\n",
        "  data1 = file.read()\n",
        "  print(data1)\n",
        "\n",
        "with open(\"file_II\",\"w\") as file:\n",
        "  file.write(\"Sharma\")\n",
        "with open(\"file_II\",\"r\") as file:\n",
        "  data2 = file.read()\n",
        "  print(data2)"
      ],
      "metadata": {
        "colab": {
          "base_uri": "https://localhost:8080/"
        },
        "id": "ure5IP2yrCjQ",
        "outputId": "500450c4-e5a5-4b38-e997-3220cca832c1"
      },
      "execution_count": 24,
      "outputs": [
        {
          "output_type": "stream",
          "name": "stdout",
          "text": [
            "Raj\n",
            "Sharma\n"
          ]
        }
      ]
    },
    {
      "cell_type": "code",
      "source": [
        "with open(\"file_III\",\"w\") as file:\n",
        "  file.write(data1 + \" \" + data2)\n",
        "with open(\"file_III\",\"r\") as file:\n",
        "  data3 = file.read()\n",
        "  print(data3)"
      ],
      "metadata": {
        "colab": {
          "base_uri": "https://localhost:8080/"
        },
        "id": "Ew_PrdR6tDSM",
        "outputId": "76dc607b-130e-4403-c4b1-5db1b8af014c"
      },
      "execution_count": 26,
      "outputs": [
        {
          "output_type": "stream",
          "name": "stdout",
          "text": [
            "Raj Sharma\n"
          ]
        }
      ]
    },
    {
      "cell_type": "code",
      "source": [
        "#lambda function\n",
        "add = lambda a,b : a+b\n",
        "add(10,20)"
      ],
      "metadata": {
        "colab": {
          "base_uri": "https://localhost:8080/"
        },
        "id": "MW5c2RobvHoX",
        "outputId": "22e1cf15-96c8-4f11-f272-3443ef053066"
      },
      "execution_count": 27,
      "outputs": [
        {
          "output_type": "execute_result",
          "data": {
            "text/plain": [
              "30"
            ]
          },
          "metadata": {},
          "execution_count": 27
        }
      ]
    },
    {
      "cell_type": "code",
      "source": [],
      "metadata": {
        "id": "GjYJSTm0wXQN"
      },
      "execution_count": null,
      "outputs": []
    }
  ]
}
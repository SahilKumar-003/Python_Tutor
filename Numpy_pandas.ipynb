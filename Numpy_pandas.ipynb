{
  "nbformat": 4,
  "nbformat_minor": 0,
  "metadata": {
    "colab": {
      "provenance": [],
      "authorship_tag": "ABX9TyM/4AN1/e8Sg1IxhI7rJDsA",
      "include_colab_link": true
    },
    "kernelspec": {
      "name": "python3",
      "display_name": "Python 3"
    },
    "language_info": {
      "name": "python"
    }
  },
  "cells": [
    {
      "cell_type": "markdown",
      "metadata": {
        "id": "view-in-github",
        "colab_type": "text"
      },
      "source": [
        "<a href=\"https://colab.research.google.com/github/SahilKumar-003/Python_Tutor/blob/main/Numpy_pandas.ipynb\" target=\"_parent\"><img src=\"https://colab.research.google.com/assets/colab-badge.svg\" alt=\"Open In Colab\"/></a>"
      ]
    },
    {
      "cell_type": "code",
      "execution_count": 12,
      "metadata": {
        "colab": {
          "base_uri": "https://localhost:8080/"
        },
        "id": "d5I7PD-o6tCd",
        "outputId": "561f8dd1-9568-4085-f93d-2c09a4efb10d"
      },
      "outputs": [
        {
          "output_type": "stream",
          "name": "stdout",
          "text": [
            "[ 5  6  3  5  8 62]\n",
            "5\n",
            "[6 3]\n",
            "62\n",
            "[ 5  8 62]\n"
          ]
        }
      ],
      "source": [
        "import numpy as np\n",
        "num = np.array([5,6,3,5,8,62])\n",
        "print(num)\n",
        "print(num[0])\n",
        "print(num[1:3])\n",
        "print(num[-1])\n",
        "print(num[-3:])"
      ]
    },
    {
      "cell_type": "code",
      "source": [
        "num2 = np.sort(num)      #sort\n",
        "mean = np.mean(num)      #mean\n",
        "print(mean)\n",
        "print(num2)\n"
      ],
      "metadata": {
        "colab": {
          "base_uri": "https://localhost:8080/"
        },
        "id": "uGFLBnyf6ys0",
        "outputId": "e1d67edb-4320-442a-e159-a3990b12bd88"
      },
      "execution_count": 18,
      "outputs": [
        {
          "output_type": "stream",
          "name": "stdout",
          "text": [
            "14.833333333333334\n",
            "[ 3  5  5  6  8 62]\n"
          ]
        }
      ]
    },
    {
      "cell_type": "markdown",
      "source": [
        "**Broadcasting**"
      ],
      "metadata": {
        "id": "qHtk7STe88Jn"
      }
    },
    {
      "cell_type": "code",
      "source": [
        "a = np.array([5,6,2,4,8,7])\n",
        "b = np.array([5])\n",
        "print(a+b)"
      ],
      "metadata": {
        "colab": {
          "base_uri": "https://localhost:8080/"
        },
        "id": "iOS3UEeM8HwA",
        "outputId": "128dfc2d-2731-4caa-90b0-41f11a815feb"
      },
      "execution_count": 19,
      "outputs": [
        {
          "output_type": "stream",
          "name": "stdout",
          "text": [
            "[10 11  7  9 13 12]\n"
          ]
        }
      ]
    },
    {
      "cell_type": "code",
      "source": [
        "a = np.array([5,6,2,8,9,5,6])\n",
        "b = np.array([3,2,6,7,9,8,5])\n",
        "c = a + b\n",
        "print(c)"
      ],
      "metadata": {
        "colab": {
          "base_uri": "https://localhost:8080/"
        },
        "id": "hjghgFjx9MVz",
        "outputId": "6b21cff3-7462-47a8-cbb4-16e7717a711f"
      },
      "execution_count": 22,
      "outputs": [
        {
          "output_type": "stream",
          "name": "stdout",
          "text": [
            "[ 8  8  8 15 18 13 11]\n"
          ]
        }
      ]
    },
    {
      "cell_type": "code",
      "source": [
        "import pandas as pd\n",
        "employee = {\"name\":[\"aryan\",\"nitin\",\"ravi\"]\n",
        "             ,\"salary\": [50000,45000,30000],\n",
        "             \"designation\":[\"HR\",\"DSE\",\"SP\"]}\n",
        "df = pd.DataFrame(employee)\n",
        "print(df)"
      ],
      "metadata": {
        "colab": {
          "base_uri": "https://localhost:8080/"
        },
        "id": "RhEciOlr9dI4",
        "outputId": "2dca27a6-0e95-4312-826b-6ffc64d82b37"
      },
      "execution_count": 26,
      "outputs": [
        {
          "output_type": "stream",
          "name": "stdout",
          "text": [
            "    name  salary designation\n",
            "0  aryan   50000          HR\n",
            "1  nitin   45000         DSE\n",
            "2   ravi   30000          SP\n"
          ]
        }
      ]
    },
    {
      "cell_type": "code",
      "source": [
        "import matplotlib.pyplot as plt\n",
        "df = pd.read_csv(\"sales.csv\")\n",
        "print(df)\n",
        "#State Wise Sale\n",
        "df.groupby(\"State\")[\"Amount\"].sum().plot(kind = \"pie\")\n",
        "plt.show()\n",
        "df.groupby([\"State\",\"Product\"])[\"Amount\"].sum() #.plot(kind = \"bar\")\n",
        "\n"
      ],
      "metadata": {
        "colab": {
          "base_uri": "https://localhost:8080/",
          "height": 1000
        },
        "id": "_4T-kz4cALlt",
        "outputId": "fade2984-d46b-4acd-8622-e217c5b114dd"
      },
      "execution_count": 47,
      "outputs": [
        {
          "output_type": "stream",
          "name": "stdout",
          "text": [
            "     Customer Gender       State     Product  Amount\n",
            "0       Alice      F  California      Laptop    1200\n",
            "1         Bob      M       Texas       Phone     800\n",
            "2     Charlie      M  California      Tablet     450\n",
            "3       Diana      F    New York      Laptop    1300\n",
            "4       Ethan      M       Texas  Headphones     200\n",
            "5       Fiona      F     Florida       Phone     850\n",
            "6      George      M  California       Phone     750\n",
            "7      Hannah      F       Texas      Tablet     500\n",
            "8         Ian      M     Florida      Laptop    1400\n",
            "9        Jane      F    New York  Headphones     220\n",
            "10      Kevin      M    New York      Laptop     976\n",
            "11      Laura      F  California      Tablet    1186\n",
            "12       Mike      M     Florida  Headphones     315\n",
            "13       Nina      F  California      Laptop    1445\n",
            "14      Oscar      F  California      Tablet     560\n",
            "15      Paula      M       Texas  Headphones    1998\n",
            "16      Quinn      M     Florida       Phone     526\n",
            "17       Rita      F    New York      Tablet    1134\n",
            "18        Sam      F    New York      Laptop     412\n",
            "19       Tina      M  California      Tablet    1901\n",
            "20        Uma      M    Illinois       Phone    1925\n",
            "21     Victor      F    Illinois  Headphones     697\n",
            "22      Wendy      M       Texas      Tablet     673\n",
            "23     Xander      F     Florida  Headphones     991\n",
            "24       Yara      M    Illinois      Laptop    1173\n",
            "25       Zane      M     Florida       Phone    1773\n",
            "26       Liam      F     Florida      Laptop     659\n",
            "27        Mia      F  California      Tablet    1745\n",
            "28       Noah      F    Illinois  Headphones    1070\n",
            "29     Olivia      M    New York       Phone    1361\n",
            "30      Peter      M     Florida      Tablet    1424\n",
            "31     Sophia      M    Illinois      Tablet     219\n",
            "32      James      M       Texas  Headphones    1650\n",
            "33        Ava      F     Florida       Phone    1818\n",
            "34      Henry      M    Illinois      Tablet     904\n",
            "35      Emily      F    Illinois      Laptop    1196\n",
            "36     Daniel      M     Florida      Laptop     983\n",
            "37      Grace      M    New York      Laptop    1573\n",
            "38      Jacob      F    Illinois  Headphones     603\n",
            "39       Ella      F    Illinois       Phone    1425\n",
            "40      Lucas      F       Texas      Laptop     331\n",
            "41     Amelia      M    New York  Headphones    1614\n",
            "42      Mason      M     Florida      Tablet    1514\n",
            "43     Harper      F  California      Tablet     687\n",
            "44      Logan      M  California  Headphones     684\n",
            "45     Evelyn      F     Florida      Tablet    1434\n",
            "46      Ethan      M       Texas      Laptop     664\n",
            "47    Abigail      M    New York  Headphones    1419\n",
            "48     Elijah      M    Illinois  Headphones    1508\n",
            "49  Charlotte      F  California       Phone    1623\n"
          ]
        },
        {
          "output_type": "display_data",
          "data": {
            "text/plain": [
              "<Figure size 640x480 with 1 Axes>"
            ],
            "image/png": "[encoded data removed]"
          },
          "metadata": {}
        },
        {
          "output_type": "execute_result",
          "data": {
            "text/plain": [
              "State       Product   \n",
              "California  Headphones     684\n",
              "            Laptop        2645\n",
              "            Phone         2373\n",
              "            Tablet        6529\n",
              "Florida     Headphones    1306\n",
              "            Laptop        3042\n",
              "            Phone         4967\n",
              "            Tablet        4372\n",
              "Illinois    Headphones    3878\n",
              "            Laptop        2369\n",
              "            Phone         3350\n",
              "            Tablet        1123\n",
              "New York    Headphones    3253\n",
              "            Laptop        4261\n",
              "            Phone         1361\n",
              "            Tablet        1134\n",
              "Texas       Headphones    3848\n",
              "            Laptop         995\n",
              "            Phone          800\n",
              "            Tablet        1173\n",
              "Name: Amount, dtype: int64"
            ],
            "text/html": [
              "<div>\n",
              "<style scoped>\n",
              "    .dataframe tbody tr th:only-of-type {\n",
              "        vertical-align: middle;\n",
              "    }\n",
              "\n",
              "    .dataframe tbody tr th {\n",
              "        vertical-align: top;\n",
              "    }\n",
              "\n",
              "    .dataframe thead th {\n",
              "        text-align: right;\n",
              "    }\n",
              "</style>\n",
              "<table border=\"1\" class=\"dataframe\">\n",
              "  <thead>\n",
              "    <tr style=\"text-align: right;\">\n",
              "      <th></th>\n",
              "      <th></th>\n",
              "      <th>Amount</th>\n",
              "    </tr>\n",
              "    <tr>\n",
              "      <th>State</th>\n",
              "      <th>Product</th>\n",
              "      <th></th>\n",
              "    </tr>\n",
              "  </thead>\n",
              "  <tbody>\n",
              "    <tr>\n",
              "      <th rowspan=\"4\" valign=\"top\">California</th>\n",
              "      <th>Headphones</th>\n",
              "      <td>684</td>\n",
              "    </tr>\n",
              "    <tr>\n",
              "      <th>Laptop</th>\n",
              "      <td>2645</td>\n",
              "    </tr>\n",
              "    <tr>\n",
              "      <th>Phone</th>\n",
              "      <td>2373</td>\n",
              "    </tr>\n",
              "    <tr>\n",
              "      <th>Tablet</th>\n",
              "      <td>6529</td>\n",
              "    </tr>\n",
              "    <tr>\n",
              "      <th rowspan=\"4\" valign=\"top\">Florida</th>\n",
              "      <th>Headphones</th>\n",
              "      <td>1306</td>\n",
              "    </tr>\n",
              "    <tr>\n",
              "      <th>Laptop</th>\n",
              "      <td>3042</td>\n",
              "    </tr>\n",
              "    <tr>\n",
              "      <th>Phone</th>\n",
              "      <td>4967</td>\n",
              "    </tr>\n",
              "    <tr>\n",
              "      <th>Tablet</th>\n",
              "      <td>4372</td>\n",
              "    </tr>\n",
              "    <tr>\n",
              "      <th rowspan=\"4\" valign=\"top\">Illinois</th>\n",
              "      <th>Headphones</th>\n",
              "      <td>3878</td>\n",
              "    </tr>\n",
              "    <tr>\n",
              "      <th>Laptop</th>\n",
              "      <td>2369</td>\n",
              "    </tr>\n",
              "    <tr>\n",
              "      <th>Phone</th>\n",
              "      <td>3350</td>\n",
              "    </tr>\n",
              "    <tr>\n",
              "      <th>Tablet</th>\n",
              "      <td>1123</td>\n",
              "    </tr>\n",
              "    <tr>\n",
              "      <th rowspan=\"4\" valign=\"top\">New York</th>\n",
              "      <th>Headphones</th>\n",
              "      <td>3253</td>\n",
              "    </tr>\n",
              "    <tr>\n",
              "      <th>Laptop</th>\n",
              "      <td>4261</td>\n",
              "    </tr>\n",
              "    <tr>\n",
              "      <th>Phone</th>\n",
              "      <td>1361</td>\n",
              "    </tr>\n",
              "    <tr>\n",
              "      <th>Tablet</th>\n",
              "      <td>1134</td>\n",
              "    </tr>\n",
              "    <tr>\n",
              "      <th rowspan=\"4\" valign=\"top\">Texas</th>\n",
              "      <th>Headphones</th>\n",
              "      <td>3848</td>\n",
              "    </tr>\n",
              "    <tr>\n",
              "      <th>Laptop</th>\n",
              "      <td>995</td>\n",
              "    </tr>\n",
              "    <tr>\n",
              "      <th>Phone</th>\n",
              "      <td>800</td>\n",
              "    </tr>\n",
              "    <tr>\n",
              "      <th>Tablet</th>\n",
              "      <td>1173</td>\n",
              "    </tr>\n",
              "  </tbody>\n",
              "</table>\n",
              "</div><br><label><b>dtype:</b> int64</label>"
            ]
          },
          "metadata": {},
          "execution_count": 47
        }
      ]
    },
    {
      "cell_type": "code",
      "source": [],
      "metadata": {
        "id": "obQS64rXCB51"
      },
      "execution_count": null,
      "outputs": []
    }
  ]
}
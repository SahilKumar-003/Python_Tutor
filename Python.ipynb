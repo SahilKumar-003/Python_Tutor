{
  "nbformat": 4,
  "nbformat_minor": 0,
  "metadata": {
    "colab": {
      "provenance": [],
      "authorship_tag": "ABX9TyN++e4W9sCYnQECdmT5YKNZ",
      "include_colab_link": true
    },
    "kernelspec": {
      "name": "python3",
      "display_name": "Python 3"
    },
    "language_info": {
      "name": "python"
    }
  },
  "cells": [
    {
      "cell_type": "markdown",
      "metadata": {
        "id": "view-in-github",
        "colab_type": "text"
      },
      "source": [
        "<a href=\"https://colab.research.google.com/github/SahilKumar-003/Python_Tutor/blob/main/Python.ipynb\" target=\"_parent\"><img src=\"https://colab.research.google.com/assets/colab-badge.svg\" alt=\"Open In Colab\"/></a>"
      ]
    },
    {
      "cell_type": "code",
      "execution_count": null,
      "metadata": {
        "id": "QxznGjzD5LcA"
      },
      "outputs": [],
      "source": [
        "#This is a comment\n",
        "''' hello welcome to python class\n",
        "python is a high level Programming Language\n",
        "'''\n"
      ]
    },
    {
      "cell_type": "code",
      "source": [
        "#Data Type\n",
        "a = 5\n",
        "b = 5.6\n",
        "c = \"Python\"\n",
        "d = True\n",
        "print(a,type(a))\n",
        "print(b,type(b))\n",
        "print(c,type(c))\n",
        "print(d,type(d))"
      ],
      "metadata": {
        "colab": {
          "base_uri": "https://localhost:8080/"
        },
        "id": "Jm6ZaH7B7CW6",
        "outputId": "049b83e0-ed3e-4417-a3ef-5b0139325275"
      },
      "execution_count": 3,
      "outputs": [
        {
          "output_type": "stream",
          "name": "stdout",
          "text": [
            "5 <class 'int'>\n",
            "5.6 <class 'float'>\n",
            "Python <class 'str'>\n",
            "True <class 'bool'>\n"
          ]
        }
      ]
    },
    {
      "cell_type": "code",
      "source": [
        "price_of_shirt = 900\n",
        "price_of_jeans = 1000\n",
        "price_of_shoes = 5000\n",
        "total_price = price_of_shirt + price_of_jeans + price_of_shoes\n",
        "print(\"Price of Shirt:\",price_of_shirt,\"\\nPrice of jeans:\",price_of_jeans,\"\\nPrice of shoes\",price_of_shoes)\n",
        "print(\"Total Price:\",total_price)"
      ],
      "metadata": {
        "colab": {
          "base_uri": "https://localhost:8080/"
        },
        "id": "9fnX6OgPFTeA",
        "outputId": "f6f4ced2-be0e-4def-c65c-aabd8929a50e"
      },
      "execution_count": 15,
      "outputs": [
        {
          "output_type": "stream",
          "name": "stdout",
          "text": [
            "Price of Shirt: 900 \n",
            "Price of jeans: 1000 \n",
            "Price of shoes 5000\n",
            "Total Price: 6900\n"
          ]
        }
      ]
    },
    {
      "cell_type": "code",
      "source": [
        "price_of_shirt = 900\n",
        "price_of_jeans = 1000\n",
        "price_of_shoes = 5000\n",
        "discount_on_shirt = 10\n",
        "discount_on_jeans = 3\n",
        "discount_on_shoes = 11\n",
        "#After Discount\n",
        "discountshirt = price_of_shirt*discount_on_shirt/100\n",
        "discountjeans = price_of_jeans*discount_on_jeans/100\n",
        "discountshoes = price_of_shoes*discount_on_shoes/100\n",
        "price_of_shirt = price_of_shirt - discountshirt\n",
        "price_of_jeans = price_of_jeans - discountjeans\n",
        "price_of_shoes = price_of_shoes - discountshoes\n",
        "total_price = price_of_shirt + price_of_jeans + price_of_shoes\n",
        "\n",
        "print(\"Price of Shirt:\",price_of_shirt,\"\\nPrice of jeans:\",price_of_jeans,\"\\nPrice of shoes\",price_of_shoes)\n",
        "print(\"Total Price:\",total_price)\n"
      ],
      "metadata": {
        "colab": {
          "base_uri": "https://localhost:8080/"
        },
        "id": "K0VboSWQ7ZhD",
        "outputId": "f2f051c5-25a5-469b-d2a2-0b3ca93e2d76"
      },
      "execution_count": 16,
      "outputs": [
        {
          "output_type": "stream",
          "name": "stdout",
          "text": [
            "Price of Shirt: 810.0 \n",
            "Price of jeans: 970.0 \n",
            "Price of shoes 4450.0\n",
            "Total Price: 6230.0\n"
          ]
        }
      ]
    },
    {
      "cell_type": "code",
      "source": [],
      "metadata": {
        "id": "mSPFFQpS9Ice"
      },
      "execution_count": null,
      "outputs": []
    }
  ]
}
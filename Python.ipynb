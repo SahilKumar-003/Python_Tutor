{
  "nbformat": 4,
  "nbformat_minor": 0,
  "metadata": {
    "colab": {
      "provenance": [],
      "authorship_tag": "ABX9TyMRQeHKP3xV0k9kmQ0k/fwm",
      "include_colab_link": true
    },
    "kernelspec": {
      "name": "python3",
      "display_name": "Python 3"
    },
    "language_info": {
      "name": "python"
    }
  },
  "cells": [
    {
      "cell_type": "markdown",
      "metadata": {
        "id": "view-in-github",
        "colab_type": "text"
      },
      "source": [
        "<a href=\"https://colab.research.google.com/github/SahilKumar-003/Python_Tutor/blob/main/Python.ipynb\" target=\"_parent\"><img src=\"https://colab.research.google.com/assets/colab-badge.svg\" alt=\"Open In Colab\"/></a>"
      ]
    },
    {
      "cell_type": "code",
      "execution_count": null,
      "metadata": {
        "id": "QxznGjzD5LcA",
        "colab": {
          "base_uri": "https://localhost:8080/",
          "height": 36
        },
        "outputId": "60f8c440-4628-4153-ae3a-d37cc40f97d5"
      },
      "outputs": [
        {
          "output_type": "execute_result",
          "data": {
            "text/plain": [
              "' hello welcome to python class\\npython is a high level Programming Language\\n'"
            ],
            "application/vnd.google.colaboratory.intrinsic+json": {
              "type": "string"
            }
          },
          "metadata": {},
          "execution_count": 1
        }
      ],
      "source": [
        "#This is a comment\n",
        "''' hello welcome to python class\n",
        "python is a high level Programming Language\n",
        "'''\n"
      ]
    },
    {
      "cell_type": "code",
      "source": [
        "#Data Type\n",
        "a = 5\n",
        "b = 5.6\n",
        "c = \"Python\"\n",
        "d = True\n",
        "print(a,type(a))\n",
        "print(b,type(b))\n",
        "print(c,type(c))\n",
        "print(d,type(d))"
      ],
      "metadata": {
        "colab": {
          "base_uri": "https://localhost:8080/"
        },
        "id": "Jm6ZaH7B7CW6",
        "outputId": "95a405a2-48b5-43e6-f1e6-c534a5fa6e70"
      },
      "execution_count": null,
      "outputs": [
        {
          "output_type": "stream",
          "name": "stdout",
          "text": [
            "5 <class 'int'>\n",
            "5.6 <class 'float'>\n",
            "Python <class 'str'>\n",
            "True <class 'bool'>\n"
          ]
        }
      ]
    },
    {
      "cell_type": "code",
      "source": [
        "#Billing System\n",
        "price_of_shirt = 900\n",
        "price_of_jeans = 1000\n",
        "price_of_shoes = 5000\n",
        "total_price = price_of_shirt + price_of_jeans + price_of_shoes\n",
        "print(\"Price of Shirt:\",price_of_shirt,\"\\nPrice of jeans:\",price_of_jeans,\"\\nPrice of shoes\",price_of_shoes)\n",
        "print(\"Total Price:\",total_price)"
      ],
      "metadata": {
        "colab": {
          "base_uri": "https://localhost:8080/"
        },
        "id": "9fnX6OgPFTeA",
        "outputId": "b54ceded-3866-4a3c-9abf-58eef4382d2e"
      },
      "execution_count": null,
      "outputs": [
        {
          "output_type": "stream",
          "name": "stdout",
          "text": [
            "Price of Shirt: 900 \n",
            "Price of jeans: 1000 \n",
            "Price of shoes 5000\n",
            "Total Price: 6900\n"
          ]
        }
      ]
    },
    {
      "cell_type": "code",
      "source": [
        "# Billing System With Discount\n",
        "price_of_shirt = 900\n",
        "price_of_jeans = 1000\n",
        "price_of_shoes = 5000\n",
        "discount_on_shirt = 10\n",
        "discount_on_jeans = 3\n",
        "discount_on_shoes = 11\n",
        "#After Discount\n",
        "discountshirt = price_of_shirt*discount_on_shirt/100\n",
        "discountjeans = price_of_jeans*discount_on_jeans/100\n",
        "discountshoes = price_of_shoes*discount_on_shoes/100\n",
        "price_of_shirt = price_of_shirt - discountshirt\n",
        "price_of_jeans = price_of_jeans - discountjeans\n",
        "price_of_shoes = price_of_shoes - discountshoes\n",
        "total_price = price_of_shirt + price_of_jeans + price_of_shoes\n",
        "\n",
        "print(\"Price of Shirt:\",price_of_shirt,\"\\nPrice of jeans:\",price_of_jeans,\"\\nPrice of shoes\",price_of_shoes)\n",
        "print(\"Total Price:\",total_price)\n"
      ],
      "metadata": {
        "colab": {
          "base_uri": "https://localhost:8080/"
        },
        "id": "K0VboSWQ7ZhD",
        "outputId": "88b32d6e-005e-4b82-ecae-487890efc048"
      },
      "execution_count": null,
      "outputs": [
        {
          "output_type": "stream",
          "name": "stdout",
          "text": [
            "Price of Shirt: 810.0 \n",
            "Price of jeans: 970.0 \n",
            "Price of shoes 4450.0\n",
            "Total Price: 6230.0\n"
          ]
        }
      ]
    },
    {
      "cell_type": "code",
      "source": [
        "# Restraunt Billing System\n",
        "pizza_medium = 199\n",
        "pizza_large = 299\n",
        "noodles = 99\n",
        "creamy_pasta = 120\n",
        "sandwich_regular = 99\n",
        "burger = 59\n",
        "total_price = pizza_medium + pizza_large + noodles + creamy_pasta + sandwich_regular + burger\n",
        "#discount given to the items\n",
        "discount_on_pizza_medium = 5\n",
        "discount_on_pizza_large = 10\n",
        "discount_on_noodles = 0\n",
        "discount_on_creamy_pasta = 5\n",
        "discount_on_sandwich_regular = 4\n",
        "discount_on_burger = 0\n",
        "#Calculating discount on items\n",
        "pizza_medium_discount = pizza_medium*discount_on_pizza_medium/100\n",
        "pizza_large_discount = pizza_large*discount_on_pizza_large/100\n",
        "noodles_discount = noodles*discount_on_noodles/100\n",
        "creamy_pasta_discount = creamy_pasta*discount_on_creamy_pasta/100\n",
        "sandwich_regular_discount = sandwich_regular*discount_on_sandwich_regular/100\n",
        "burger_discount = burger*discount_on_burger/100\n",
        "#Prize after discount\n",
        "net_prize_pizza_medium = pizza_medium-pizza_medium_discount\n",
        "net_prize_pizza_large = pizza_large-pizza_large_discount\n",
        "net_prize_noodles = noodles-noodles_discount\n",
        "net_prize_creamy_pasta = creamy_pasta-creamy_pasta_discount\n",
        "net_prize_sandwich_regular = sandwich_regular-sandwich_regular_discount\n",
        "net_prize_burger = burger-burger_discount\n",
        "net_total_prize = net_prize_pizza_medium + net_prize_pizza_large + net_prize_noodles + net_prize_creamy_pasta + net_prize_sandwich_regular + net_prize_burger\n",
        "print(\"Hungerz Food Point \\nSales Price\")\n",
        "print(\"Pizza medium:\",pizza_medium,\"\\nPizza large:\",pizza_large,\"\\nNoodles:\",noodles,\"\\nCreamy Pasta:\",creamy_pasta,\"\\nSandwich regular:\",sandwich_regular,\"\\nBurger:\",burger)\n",
        "print(\"Total Price :\",total_price)\n",
        "print(\"\\nDiscounted Prize\")\n",
        "print(\"Pizza medium\",net_prize_pizza_medium,\"\\nPizza large:\",net_prize_pizza_large,\"\\nNoodles:\",net_prize_noodles,\"\\nCreamy pasta:\",net_prize_creamy_pasta,\"\\nSandwich regular:\",net_prize_sandwich_regular,\"\\nBurger:\",net_prize_burger)\n",
        "print(\"Total Amount :\",net_total_prize)\n",
        "\n"
      ],
      "metadata": {
        "id": "mSPFFQpS9Ice",
        "colab": {
          "base_uri": "https://localhost:8080/"
        },
        "outputId": "66882630-bb66-4a23-fda5-cac398b91ccb"
      },
      "execution_count": null,
      "outputs": [
        {
          "output_type": "stream",
          "name": "stdout",
          "text": [
            "Hungerz Food Point \n",
            "Sales Price\n",
            "Pizza medium: 199 \n",
            "Pizza large: 299 \n",
            "Noodles: 99 \n",
            "Creamy Pasta: 120 \n",
            "Sandwich regular: 99 \n",
            "Burger: 59\n",
            "Total Price : 875\n",
            "\n",
            "Discounted Prize\n",
            "Pizza medium 189.05 \n",
            "Pizza large: 269.1 \n",
            "Noodles: 99.0 \n",
            "Creamy pasta: 114.0 \n",
            "Sandwich regular: 95.04 \n",
            "Burger: 59.0\n",
            "Total Amount : 825.19\n"
          ]
        }
      ]
    },
    {
      "cell_type": "code",
      "source": [
        "# Currency Convertor\n",
        "usd_inr = float(input(\"Currency in USD:\"))\n",
        "rupee_value_in_dollar = 88.1\n",
        "usd_inr = usd_inr*rupee_value_in_dollar\n",
        "print(\"Currency converted from USD to INR:\",usd_inr)\n",
        "\n",
        "inr_usd = float(input(\"Currency in INR:\"))\n",
        "inr_usd = inr_usd/rupee_value_in_dollar\n",
        "print(\"Currency converted From INR to USD\",inr_usd)\n",
        "\n",
        "euro_inr = float(input(\"Currency in Euro:\"))\n",
        "rupee_value_in_euro = 103.30\n",
        "euro_inr = euro_inr*rupee_value_in_euro\n",
        "print(\"Currency Converted from Euro to INR: \",euro_inr)\n",
        "\n",
        "inr_euro = float(input(\"Currency in INR:\"))\n",
        "inr_euro = inr_euro/rupee_value_in_euro\n",
        "print(\"Currency Converted To INR from Euro\",inr_euro)\n"
      ],
      "metadata": {
        "id": "varHoANuBa5Y",
        "colab": {
          "base_uri": "https://localhost:8080/"
        },
        "outputId": "f7d625ce-f120-4627-a314-56981d7e2704"
      },
      "execution_count": null,
      "outputs": [
        {
          "output_type": "stream",
          "name": "stdout",
          "text": [
            "Currency in USD:5\n",
            "Currency converted from USD to INR: 440.5\n",
            "Currency in INR:500\n",
            "Currency converted From INR to USD 5.675368898978434\n",
            "Currency in Euro:5\n",
            "Currency Converted from Euro to INR:  516.5\n",
            "Currency in INR:1000\n",
            "Currency Converted To INR from Euro 9.68054211035818\n"
          ]
        }
      ]
    },
    {
      "cell_type": "code",
      "source": [
        "#Simple Intrest\n",
        "principle = 10000\n",
        "rate = 5 #(5% monthly)\n",
        "time = 6  # months\n",
        "si = (principle*rate*time)/100\n",
        "print(si)\n"
      ],
      "metadata": {
        "id": "juccIa45YAJK",
        "colab": {
          "base_uri": "https://localhost:8080/"
        },
        "outputId": "67260f00-de06-4ce2-d397-8e28441cfbc2"
      },
      "execution_count": null,
      "outputs": [
        {
          "output_type": "stream",
          "name": "stdout",
          "text": [
            "3000.0\n"
          ]
        }
      ]
    },
    {
      "cell_type": "code",
      "source": [
        "#Simple Intrest Per Days\n",
        "principle = 1000\n",
        "rate = 5\n",
        "months = 2\n",
        "days = 3\n",
        "days_in_month = days/30\n",
        "# time = months + days\n",
        "# si = (principle*rate*time)/100\n",
        "# print(si)\n",
        "si_month = (principle*rate*months)/100\n",
        "# print(si1)\n",
        "si_days_in_month = (principle*rate*days_in_month)/100\n",
        "# print(si2)\n",
        "print(\"Simple Intrest \",si_month + si_days_in_month)"
      ],
      "metadata": {
        "colab": {
          "base_uri": "https://localhost:8080/"
        },
        "id": "m4_IUbPwExYJ",
        "outputId": "40f80efb-52ac-483d-9b5e-f7cd57d96744"
      },
      "execution_count": null,
      "outputs": [
        {
          "output_type": "stream",
          "name": "stdout",
          "text": [
            "Simple Intrest  105.0\n"
          ]
        }
      ]
    },
    {
      "cell_type": "code",
      "source": [
        "# if else\n",
        "age = 35\n",
        "if age>= 18:\n",
        "  print(\"Eligible For Voting\")\n",
        "else:\n",
        "  print(\"Not eligible for Voting\")"
      ],
      "metadata": {
        "colab": {
          "base_uri": "https://localhost:8080/"
        },
        "id": "hgB8c3DDFR9k",
        "outputId": "31d1682e-3a38-45c4-eaec-c65d5d87a0e5"
      },
      "execution_count": null,
      "outputs": [
        {
          "output_type": "stream",
          "name": "stdout",
          "text": [
            "Eligible For Voting\n"
          ]
        }
      ]
    },
    {
      "cell_type": "code",
      "source": [
        "num =  15\n",
        "if num % 2 == 0 :\n",
        "  print(\"Even\")\n",
        "else:\n",
        "  print(\"Odd\")\n"
      ],
      "metadata": {
        "colab": {
          "base_uri": "https://localhost:8080/"
        },
        "id": "M-3g20dlnvMy",
        "outputId": "62f35d79-5fe9-4245-f384-69be13acca1d"
      },
      "execution_count": null,
      "outputs": [
        {
          "output_type": "stream",
          "name": "stdout",
          "text": [
            "Odd\n"
          ]
        }
      ]
    },
    {
      "cell_type": "code",
      "source": [
        "#if elif\n",
        "color = \"blue\"\n",
        "if color  == \"red\":\n",
        "  print(\"Accepted\")\n",
        "elif color == \"blue\":\n",
        "  print(\"Manage\")\n",
        "else:\n",
        "  print(\"not acceptable\")"
      ],
      "metadata": {
        "colab": {
          "base_uri": "https://localhost:8080/"
        },
        "id": "AZftoZRZqADH",
        "outputId": "f2640e9f-4100-4697-dc42-dcd7ef075e76"
      },
      "execution_count": null,
      "outputs": [
        {
          "output_type": "stream",
          "name": "stdout",
          "text": [
            "Manage\n"
          ]
        }
      ]
    },
    {
      "cell_type": "code",
      "source": [
        "# Nested if else\n",
        "gender = str(input(\"Enter Your Gender:\"))\n",
        "age = int(input(\"Enter Your Age:\"))\n",
        "if gender == \"male\":\n",
        "  print(\"Go to Hotel A\")\n",
        "  if age >=30:\n",
        "    print(\"Your Building Number is 1\")\n",
        "  else:\n",
        "    print(\"Your Building Number is 2\")\n",
        "elif gender == \"female\":\n",
        "  print(\"Go to Hotel B\")\n",
        "  if age>= 30:\n",
        "    print(\"Your Building Number is 100\")\n",
        "  else:\n",
        "    print(\"Your Building Number is 101\")\n",
        "else:\n",
        "  print(\"No Result\")"
      ],
      "metadata": {
        "id": "r6_QkFfetJZO",
        "colab": {
          "base_uri": "https://localhost:8080/"
        },
        "outputId": "910c9642-1635-4bf5-c81f-c0e7a0d7c58d"
      },
      "execution_count": null,
      "outputs": [
        {
          "output_type": "stream",
          "name": "stdout",
          "text": [
            "Enter Your Gender:male\n",
            "Enter Your Age:21\n",
            "Go to Hotel A\n",
            "Your Building Number is 2\n"
          ]
        }
      ]
    },
    {
      "cell_type": "code",
      "source": [
        "#User Input\n",
        "# Takes String by default\n",
        "name = input(\"Enter your Name:\")\n",
        "age = int(input(\"Enter your Age:\"))\n",
        "salary = float(input(\"Enter your Salary:\"))\n",
        "status = bool(input(\"Married or unmarried:\"))\n"
      ],
      "metadata": {
        "id": "F-JOliXc_skT",
        "colab": {
          "base_uri": "https://localhost:8080/"
        },
        "outputId": "65f77f79-da6f-4638-d2d7-1f2fa1f91d31"
      },
      "execution_count": null,
      "outputs": [
        {
          "name": "stdout",
          "output_type": "stream",
          "text": [
            "Enter your Name:Aryan Sharma\n",
            "Enter your Age:21\n",
            "Enter your Salary:5000\n",
            "Married or unmarried:married\n"
          ]
        }
      ]
    },
    {
      "cell_type": "code",
      "source": [
        "# simple intrest with if condition\n",
        "principle = 10000\n",
        "rate = 5\n",
        "months = 5\n",
        "no_of_day = 10\n",
        "month_name = input(\"Enter month:\")\n",
        "if month_name == \"jan\"or month_name ==\"mar\"or month_name == \"may\" or month_name == \"july\" or month_name == \"aug\" or month_name == \"oct\" or month_name ==  \"dec\":\n",
        "  days = 31\n",
        "\n",
        "elif month_name == \"apr\" or month_name == \"june\" or month_name == \"sep\" or month_name == \"nov\":\n",
        "  days = 30\n",
        "\n",
        "elif month_name == \"feb\":\n",
        "  days = 28\n",
        "\n",
        "else:\n",
        "  print(\"Invalid Input\")\n",
        "print(month_name)\n",
        "\n",
        "days_in_month = no_of_day/days\n",
        "print(days_in_month)\n",
        "\n",
        "si = (principle*rate*days_in_month)/100\n",
        "print(\"Simple Intrest :\",si)\n",
        "\n",
        "\n",
        "\n"
      ],
      "metadata": {
        "id": "8tFTaNlBsfjf",
        "colab": {
          "base_uri": "https://localhost:8080/"
        },
        "outputId": "40689b66-30d3-4d6c-e200-d58c5f97c1a6"
      },
      "execution_count": null,
      "outputs": [
        {
          "output_type": "stream",
          "name": "stdout",
          "text": [
            "Enter month:mar\n",
            "mar\n",
            "0.3225806451612903\n",
            "Simple Intrest : 161.29032258064515\n"
          ]
        }
      ]
    },
    {
      "cell_type": "code",
      "source": [
        "#leap Year\n",
        "year = 2024\n",
        "if year % 4 == 0 and year % 100 != 0 or year % 400 == 0:  # leap year condition\n",
        "  print(\"leap Year\")\n",
        "else:\n",
        "  print(\"Not a leap year\")\n"
      ],
      "metadata": {
        "id": "lgbk8Idt3tjI",
        "colab": {
          "base_uri": "https://localhost:8080/"
        },
        "outputId": "2de7dfd5-d74f-4b5b-ec4f-45cd86c8d0d7"
      },
      "execution_count": null,
      "outputs": [
        {
          "output_type": "stream",
          "name": "stdout",
          "text": [
            "leap Year\n"
          ]
        }
      ]
    },
    {
      "cell_type": "code",
      "source": [
        "# leap year using nested if else\n",
        "year2 = 2024\n",
        "if year2 % 4 == 0 :\n",
        "  if year2 % 100 == 0 :\n",
        "    if year2 % 400 == 0 :\n",
        "      print(\"leap year\")\n",
        "    else:\n",
        "      print(\"not a leap year\")\n",
        "  else:\n",
        "    print(\"leap year\")\n",
        "else:\n",
        "  print(\"not a leap year\")"
      ],
      "metadata": {
        "id": "a0Ge_OgRvfZo",
        "colab": {
          "base_uri": "https://localhost:8080/"
        },
        "outputId": "e2ff83fa-8b12-46bf-9f9f-166813539f97"
      },
      "execution_count": null,
      "outputs": [
        {
          "output_type": "stream",
          "name": "stdout",
          "text": [
            "leap year\n"
          ]
        }
      ]
    },
    {
      "cell_type": "code",
      "source": [
        "#SImple Intrest with leap year\n",
        "principle = 5000\n",
        "rate = 5\n",
        "year = 2024\n",
        "days_in_month = 10\n",
        "month_name = input(\"Enter the name of month having 10 days:\")\n",
        "if month_name == \"jan\" or month_name == \"mar\" or month_name == \"may\" or month_name == \"july\" or month_name == \"aug\" or month_name == \"oct\" or month_name == \"dec\":\n",
        "  month_of_days = 31\n",
        "elif month_name == \"apr\" or month_name == \"june\" or month_name == \"sep\" or month_name == \"nov\":\n",
        "  month_of_days = 30\n",
        "elif month_name == \"feb\":\n",
        "  if year % 4 == 0 and year % 100 != 0 or year % 400 == 0 :\n",
        "    print(\"leap year\")\n",
        "    month_of_days = 29\n",
        "  else:\n",
        "    print(\"Not a leap year\")\n",
        "    month_of_days = 28\n",
        "else:\n",
        "  print(\"Invalid input\")\n",
        "\n",
        "# days_to_month = days_in_month / month_of_days\n",
        "days_to_month = days_in_month / month_of_days\n",
        "print(days_to_month)\n",
        "simple_intrest = (principle*rate*days_to_month)/100\n",
        "print(\"Simple Intrest:\",simple_intrest)\n",
        "\n",
        "\n",
        "\n",
        "\n",
        "\n",
        "\n"
      ],
      "metadata": {
        "id": "t4AUBXkE9DZY",
        "colab": {
          "base_uri": "https://localhost:8080/"
        },
        "outputId": "98e0e317-5b96-4722-872b-6828c8da5586"
      },
      "execution_count": null,
      "outputs": [
        {
          "output_type": "stream",
          "name": "stdout",
          "text": [
            "Enter the name of month having 10 days:jan\n",
            "0.3225806451612903\n",
            "Simple Intrest: 80.64516129032258\n"
          ]
        }
      ]
    },
    {
      "cell_type": "markdown",
      "source": [
        "*Traffic Light System*\n"
      ],
      "metadata": {
        "id": "4ySt8NnJVoNN"
      }
    },
    {
      "cell_type": "code",
      "source": [
        "signal_light = input(\"Enter Traffic Light:\")\n",
        "if signal_light == \"Red\":\n",
        "  print(\"Stop\")\n",
        "elif signal_light == \"Yellow\":\n",
        "  print(\"Wait\")\n",
        "elif signal_light == \"Green\":\n",
        "  print(\"Go\")\n"
      ],
      "metadata": {
        "id": "EU2LC1VHYVjn",
        "colab": {
          "base_uri": "https://localhost:8080/"
        },
        "outputId": "6e7d37b2-e5f3-4a09-f87f-b69f3a0be8ae"
      },
      "execution_count": null,
      "outputs": [
        {
          "output_type": "stream",
          "name": "stdout",
          "text": [
            "Enter Traffic Light:Green\n",
            "Go\n"
          ]
        }
      ]
    },
    {
      "cell_type": "code",
      "source": [
        "lane = input(\"Enter Your lane With Direction (SI,NI,WI,EI):\").upper()\n",
        "signal_light = input(\"Enter Traffic Light:\")      #.title() first letter capital\n",
        "if signal_light == \"green\":\n",
        "  print(\"You Can go\")\n",
        "  if lane == \"SI\":\n",
        "    print(\"Lanes open are: NO,WO,EO\")\n",
        "  elif lane == \"NI\":\n",
        "    print(\"Lanes open are:SO,WO,EO\")\n",
        "  elif lane == \"WI\":\n",
        "    print(\"Lanes open are: NO,SO,EO\")\n",
        "  elif lane == \"EI\":\n",
        "    print(\"Lanes open are: SO,NO,WO\")\n",
        "elif signal_light == \"yellow\":\n",
        "  print(\"Wait for your turn\")\n",
        "else:\n",
        "  print(\"Stop\")\n"
      ],
      "metadata": {
        "id": "8HT0u_oBiWqe",
        "colab": {
          "base_uri": "https://localhost:8080/"
        },
        "outputId": "8ab6bb84-bef1-4c53-aa14-4d7ae7ea5968"
      },
      "execution_count": null,
      "outputs": [
        {
          "output_type": "stream",
          "name": "stdout",
          "text": [
            "Enter Traffic Light:green\n",
            "You Can go\n",
            "Lanes open are:SO,WO,EO\n"
          ]
        }
      ]
    },
    {
      "cell_type": "markdown",
      "source": [
        "**Loops**\n"
      ],
      "metadata": {
        "id": "9CSja_PXaOpB"
      }
    },
    {
      "cell_type": "code",
      "source": [
        "#loop using simple Range funtion\n",
        "for i in range(5):\n",
        "  print(i)"
      ],
      "metadata": {
        "id": "EJzMFgTGwp4v",
        "colab": {
          "base_uri": "https://localhost:8080/"
        },
        "outputId": "d98a61f6-cafa-4fce-9222-cdd773d3c42b"
      },
      "execution_count": null,
      "outputs": [
        {
          "output_type": "stream",
          "name": "stdout",
          "text": [
            "0\n",
            "1\n",
            "2\n",
            "3\n",
            "4\n"
          ]
        }
      ]
    },
    {
      "cell_type": "code",
      "source": [
        "#loops with range and step size\n",
        "for i in range(1,9,3):\n",
        "  print(i)"
      ],
      "metadata": {
        "colab": {
          "base_uri": "https://localhost:8080/"
        },
        "id": "u9rm-tQoaXW0",
        "outputId": "d3889e91-6cdd-4c00-d5b2-e2e6a6700e16"
      },
      "execution_count": null,
      "outputs": [
        {
          "output_type": "stream",
          "name": "stdout",
          "text": [
            "1\n",
            "4\n",
            "7\n"
          ]
        }
      ]
    },
    {
      "cell_type": "code",
      "source": [
        "#loops with negative step size\n",
        "for i in range(7,0,-1):\n",
        "  print(i)"
      ],
      "metadata": {
        "colab": {
          "base_uri": "https://localhost:8080/"
        },
        "id": "-4UD0MZ3a7EL",
        "outputId": "333b7b97-97ca-418a-9451-1361807f0bfd"
      },
      "execution_count": null,
      "outputs": [
        {
          "output_type": "stream",
          "name": "stdout",
          "text": [
            "7\n",
            "6\n",
            "5\n",
            "4\n",
            "3\n",
            "2\n",
            "1\n"
          ]
        }
      ]
    },
    {
      "cell_type": "code",
      "source": [
        "number = int(input(\"Enter the Number:\"))\n",
        "if number % 100 == 0 and number % 200 == 0 and number % 500 == 0 :\n",
        "  print(\"Number is Divisible by 100,200,500\")\n",
        "else:\n",
        "  print(\"Number is not Divisible by 100,200,500\")"
      ],
      "metadata": {
        "colab": {
          "base_uri": "https://localhost:8080/"
        },
        "id": "DZsDQEQvblVU",
        "outputId": "d6e5fe52-5338-4f9d-8774-3fa16edcb22b"
      },
      "execution_count": null,
      "outputs": [
        {
          "output_type": "stream",
          "name": "stdout",
          "text": [
            "Enter the Number:600\n",
            "Number is not Divisible by 100,200,500\n"
          ]
        }
      ]
    },
    {
      "cell_type": "code",
      "source": [
        "num = int(input(\"Enter the number:\"))\n",
        "if num % 20  != 0:\n",
        "  print(\"not div\")\n",
        "else:\n",
        "  print(\"div\")"
      ],
      "metadata": {
        "colab": {
          "base_uri": "https://localhost:8080/"
        },
        "id": "_cq2rSEmeS8J",
        "outputId": "d9553934-2ff0-4ca7-c2c9-54c1a93adb4b"
      },
      "execution_count": null,
      "outputs": [
        {
          "output_type": "stream",
          "name": "stdout",
          "text": [
            "Enter the number:525\n",
            "not div\n"
          ]
        }
      ]
    },
    {
      "cell_type": "code",
      "source": [
        "sum = 0\n",
        "for i in range(1,11):\n",
        "  sum += i\n",
        "  print(sum)\n",
        "print(\"total sum :\",sum)\n",
        "\n"
      ],
      "metadata": {
        "colab": {
          "base_uri": "https://localhost:8080/"
        },
        "id": "Yq6VGS3_embS",
        "outputId": "43f861b8-415d-452d-f41f-9b26b7269e8f"
      },
      "execution_count": null,
      "outputs": [
        {
          "output_type": "stream",
          "name": "stdout",
          "text": [
            "1\n",
            "3\n",
            "6\n",
            "10\n",
            "15\n",
            "21\n",
            "28\n",
            "36\n",
            "45\n",
            "55\n",
            "total sum : 55\n"
          ]
        }
      ]
    },
    {
      "cell_type": "code",
      "source": [
        "sum = 0\n",
        "for i in range(1,12,2):\n",
        "  sum += i\n",
        "  print(sum)\n",
        "print(\"total sum :\",sum)"
      ],
      "metadata": {
        "colab": {
          "base_uri": "https://localhost:8080/"
        },
        "id": "_amF-3Pzgy3P",
        "outputId": "502bb218-25cb-489a-a026-e32e989a49c5"
      },
      "execution_count": null,
      "outputs": [
        {
          "output_type": "stream",
          "name": "stdout",
          "text": [
            "1\n",
            "4\n",
            "9\n",
            "16\n",
            "25\n",
            "36\n",
            "total sum : 36\n"
          ]
        }
      ]
    },
    {
      "cell_type": "code",
      "source": [
        "sum = 0\n",
        "for i in range(1,12):\n",
        "  if i % 2 != 0 :\n",
        "     sum += i\n",
        "     print(sum)\n",
        "print(\"total sum:\",sum)"
      ],
      "metadata": {
        "colab": {
          "base_uri": "https://localhost:8080/"
        },
        "id": "fDF6HFyviZ96",
        "outputId": "84d8fabe-fd0c-4e3e-fe28-c743f60af4c4"
      },
      "execution_count": null,
      "outputs": [
        {
          "output_type": "stream",
          "name": "stdout",
          "text": [
            "1\n",
            "4\n",
            "9\n",
            "16\n",
            "25\n",
            "36\n",
            "total sum: 36\n"
          ]
        }
      ]
    },
    {
      "cell_type": "code",
      "source": [
        "sum = 0\n",
        "for i in range(1,11):\n",
        "  if i % 2 == 0 :\n",
        "     sum += i\n",
        "     print(sum)\n",
        "print(\"total sum:\",sum)"
      ],
      "metadata": {
        "colab": {
          "base_uri": "https://localhost:8080/"
        },
        "id": "nwY7XSkXjmuR",
        "outputId": "6b7a77da-e7df-4851-ef8d-ac86813355bd"
      },
      "execution_count": null,
      "outputs": [
        {
          "output_type": "stream",
          "name": "stdout",
          "text": [
            "2\n",
            "6\n",
            "12\n",
            "20\n",
            "30\n",
            "total sum: 30\n"
          ]
        }
      ]
    },
    {
      "cell_type": "code",
      "source": [
        "sum = 0\n",
        "for i in range(2,11,2):\n",
        "  sum += i\n",
        "\n",
        "  print(sum)\n",
        "\n",
        "print(sum)"
      ],
      "metadata": {
        "colab": {
          "base_uri": "https://localhost:8080/"
        },
        "id": "Uewcj_BalCf-",
        "outputId": "4133df9b-0bc9-4dfc-c8cb-205739647b48"
      },
      "execution_count": null,
      "outputs": [
        {
          "output_type": "stream",
          "name": "stdout",
          "text": [
            "2\n",
            "6\n",
            "12\n",
            "20\n",
            "30\n",
            "30\n"
          ]
        }
      ]
    },
    {
      "cell_type": "code",
      "source": [
        "sum = 0\n",
        "for i in range(2,27,6):\n",
        "  sum += i\n",
        "  print(sum)\n",
        "print(\"Total sum\",sum)"
      ],
      "metadata": {
        "colab": {
          "base_uri": "https://localhost:8080/"
        },
        "id": "kzw27NjHmCKv",
        "outputId": "774a0ea6-d000-482e-f8b2-b096d7f4803f"
      },
      "execution_count": null,
      "outputs": [
        {
          "output_type": "stream",
          "name": "stdout",
          "text": [
            "2\n",
            "10\n",
            "24\n",
            "44\n",
            "70\n",
            "Total sum 70\n"
          ]
        }
      ]
    },
    {
      "cell_type": "code",
      "source": [
        "sum = 0\n",
        "for i in range(1,27):\n",
        "  if i % 6 == 2 :\n",
        "    sum += i\n",
        "print(sum)\n"
      ],
      "metadata": {
        "colab": {
          "base_uri": "https://localhost:8080/"
        },
        "id": "hSnI7CuMmpZb",
        "outputId": "41b8afbe-8333-4c13-d1e2-260cb6d655e3"
      },
      "execution_count": null,
      "outputs": [
        {
          "output_type": "stream",
          "name": "stdout",
          "text": [
            "70\n"
          ]
        }
      ]
    },
    {
      "cell_type": "code",
      "source": [
        "k = 0\n",
        "for i in range(1,100):\n",
        "  if i%5 == 0 and i % 10 == 0:\n",
        "   k += 1\n",
        "   print(i)\n",
        "print(\"Total number:\",k)\n",
        "\n"
      ],
      "metadata": {
        "id": "1bmzYvQKm5JT",
        "colab": {
          "base_uri": "https://localhost:8080/"
        },
        "outputId": "26444057-52db-44aa-feb6-985a4ef7064b"
      },
      "execution_count": null,
      "outputs": [
        {
          "output_type": "stream",
          "name": "stdout",
          "text": [
            "10\n",
            "20\n",
            "30\n",
            "40\n",
            "50\n",
            "60\n",
            "70\n",
            "80\n",
            "90\n",
            "Total number: 9\n"
          ]
        }
      ]
    },
    {
      "cell_type": "code",
      "source": [
        "k = 0\n",
        "for i in range(1,100):\n",
        "  if i % 5 == 0 and i % 10 != 0:\n",
        "    k += 1\n",
        "    print(i)\n",
        "print(\"Total Numbers:\",k)\n",
        "\n"
      ],
      "metadata": {
        "colab": {
          "base_uri": "https://localhost:8080/"
        },
        "id": "U6Ej6X9FMpVT",
        "outputId": "97cea936-3196-42ff-cb84-712643c0097c"
      },
      "execution_count": null,
      "outputs": [
        {
          "output_type": "stream",
          "name": "stdout",
          "text": [
            "5\n",
            "15\n",
            "25\n",
            "35\n",
            "45\n",
            "55\n",
            "65\n",
            "75\n",
            "85\n",
            "95\n",
            "Total Numbers: 10\n"
          ]
        }
      ]
    },
    {
      "cell_type": "code",
      "source": [
        "# Find the sum of numbers which are not divisible by 2,3,4,5\n",
        "sum = 0\n",
        "for i in range(0,26):\n",
        "  if i % 2 != 0 and i % 3 != 0 and i % 4 != 0 and i % 5 != 0 :\n",
        "    sum += i\n",
        "    print(i)\n",
        "\n",
        "print(\"sum:\",sum)"
      ],
      "metadata": {
        "id": "pFrQ88XfPiwZ",
        "colab": {
          "base_uri": "https://localhost:8080/"
        },
        "outputId": "81d54803-c7aa-446e-bf4f-a53006c2c6fc"
      },
      "execution_count": null,
      "outputs": [
        {
          "output_type": "stream",
          "name": "stdout",
          "text": [
            "1\n",
            "7\n",
            "11\n",
            "13\n",
            "17\n",
            "19\n",
            "23\n",
            "sum: 91\n"
          ]
        }
      ]
    },
    {
      "cell_type": "code",
      "source": [
        "sum =  0\n",
        "for i in range(0,26):\n",
        "  if i % 2 != 0:\n",
        "    if  i % 3 != 0:\n",
        "       if i % 4 != 0:\n",
        "        if i % 5 != 0:\n",
        "          sum += i\n",
        "          print(i)\n",
        "print(\"sum:\",sum)\n"
      ],
      "metadata": {
        "colab": {
          "base_uri": "https://localhost:8080/"
        },
        "id": "5CDC-qBSgMER",
        "outputId": "abbea73d-bda9-40d1-fa25-02860fda8657"
      },
      "execution_count": null,
      "outputs": [
        {
          "output_type": "stream",
          "name": "stdout",
          "text": [
            "1\n",
            "7\n",
            "11\n",
            "13\n",
            "17\n",
            "19\n",
            "23\n",
            "sum: 91\n"
          ]
        }
      ]
    },
    {
      "cell_type": "code",
      "source": [
        "sum1 = 0\n",
        "sum2 = 0\n",
        "for i in range (0,26):\n",
        "  sum1  += i\n",
        "  if i % 2 == 0 or i % 3 == 0 or i % 5 == 0: # remove 4 because 2 is already their\n",
        "    sum2 += i\n",
        "\n",
        "print(sum1)\n",
        "print(sum2)\n",
        "print(\"Reguired result:\",sum1 - sum2)\n"
      ],
      "metadata": {
        "colab": {
          "base_uri": "https://localhost:8080/"
        },
        "id": "RGGE52f3g_na",
        "outputId": "6e9870cc-d4e4-4964-b7dd-62b28f1bea32"
      },
      "execution_count": null,
      "outputs": [
        {
          "output_type": "stream",
          "name": "stdout",
          "text": [
            "325\n",
            "234\n",
            "Reguired result: 91\n"
          ]
        }
      ]
    },
    {
      "cell_type": "code",
      "source": [
        "#Fibonacci Series  # we can take index from 0 or from 1 (but the answer should be correct)\n",
        "first = 0\n",
        "second = 1\n",
        "# third = first + second\n",
        "print(first)\n",
        "print(second)\n",
        "for i in range(3,11):\n",
        "  third = first + second\n",
        "  first = second\n",
        "  second = third\n",
        "  print(third)\n",
        "print(\"Final Result:\",third)"
      ],
      "metadata": {
        "colab": {
          "base_uri": "https://localhost:8080/"
        },
        "id": "pYgkhCzih3-B",
        "outputId": "8b680e52-0643-4089-8ac8-4cb32f807ad4"
      },
      "execution_count": null,
      "outputs": [
        {
          "output_type": "stream",
          "name": "stdout",
          "text": [
            "0\n",
            "1\n",
            "1\n",
            "2\n",
            "3\n",
            "5\n",
            "8\n",
            "13\n",
            "21\n",
            "34\n",
            "Final Result: 34\n"
          ]
        }
      ]
    },
    {
      "cell_type": "code",
      "source": [
        "# Factorial\n",
        "fix = 1\n",
        "for i in range(1,6):\n",
        "  fix *= i\n",
        "print(\"5 Factorial:\",fix)"
      ],
      "metadata": {
        "id": "rpCj5V7An_pN",
        "colab": {
          "base_uri": "https://localhost:8080/"
        },
        "outputId": "d6563c38-6345-4373-8709-bca8e70f8820"
      },
      "execution_count": null,
      "outputs": [
        {
          "output_type": "stream",
          "name": "stdout",
          "text": [
            "5 Factorial: 120\n"
          ]
        }
      ]
    },
    {
      "cell_type": "code",
      "source": [
        "fix = 1\n",
        "sum_of_factorials = 0\n",
        "for i in range(1,6):\n",
        "  fix *= i\n",
        "  sum_of_factorials += fix\n",
        "print(\"factorial:\",fix)\n",
        "print(\"Sum of Factorials:\",sum_of_factorials)"
      ],
      "metadata": {
        "colab": {
          "base_uri": "https://localhost:8080/"
        },
        "id": "g8x5XlQMacXe",
        "outputId": "40cbfeef-ff64-4bb0-b697-546416a2a665"
      },
      "execution_count": null,
      "outputs": [
        {
          "output_type": "stream",
          "name": "stdout",
          "text": [
            "factorial: 120\n",
            "Sum of Factorials: 153\n"
          ]
        }
      ]
    },
    {
      "cell_type": "code",
      "source": [
        "#HCF\n",
        "num1 = int(input(\"Enter the number:\"))\n",
        "num2= int(input(\"Enter the number:\"))\n",
        "if num1 > num2 :\n",
        "  small = num2\n",
        "else:\n",
        "  small = num1\n",
        "for i in range (1,small+1):\n",
        "  if num1 % i == 0 and num2 % i == 0 :\n",
        "    hcf = i\n",
        "print(hcf)\n",
        "# lcm = (num1*num2)/1hcf #lcm using formula number1*number2 = hcf*lcm\n",
        "# print(\"LCM is:\",lcm)"
      ],
      "metadata": {
        "colab": {
          "base_uri": "https://localhost:8080/"
        },
        "id": "QcFseVQ4bNx_",
        "outputId": "c55da96f-bbf5-46ea-9c29-35da8aa1729d"
      },
      "execution_count": null,
      "outputs": [
        {
          "output_type": "stream",
          "name": "stdout",
          "text": [
            "Enter the number:45\n",
            "Enter the number:15\n",
            "15\n"
          ]
        }
      ]
    },
    {
      "cell_type": "code",
      "source": [
        "#LCM\n",
        "num1 = int(input(\"Enter the number:\"))\n",
        "num2= int(input(\"Enter the number:\"))\n",
        "if num1 > num2:\n",
        "  large = num1\n",
        "else:\n",
        "  large = num2\n",
        "for i in range(large,(num1*num2)+1):\n",
        "  if i % num1 == 0 and i % num2 == 0:\n",
        "    lcm = i\n",
        "    break\n",
        "print(\"LCM:\",i)\n",
        "\n",
        "\n"
      ],
      "metadata": {
        "colab": {
          "base_uri": "https://localhost:8080/"
        },
        "id": "Df0bKMxuf6JD",
        "outputId": "0f810cbb-ee91-47b8-faff-caa31ae28a49"
      },
      "execution_count": null,
      "outputs": [
        {
          "output_type": "stream",
          "name": "stdout",
          "text": [
            "Enter the number:9\n",
            "Enter the number:15\n",
            "LCM: 45\n"
          ]
        }
      ]
    },
    {
      "cell_type": "code",
      "source": [
        "# Functions\n",
        "def info():   #Topi\n",
        "  print(\"hello Python\")\n",
        "info()  #Jutte"
      ],
      "metadata": {
        "colab": {
          "base_uri": "https://localhost:8080/"
        },
        "id": "CkImjMLZpq9Y",
        "outputId": "155820f2-3748-4d70-aa66-3a227b05e765"
      },
      "execution_count": null,
      "outputs": [
        {
          "output_type": "stream",
          "name": "stdout",
          "text": [
            "hello Python\n"
          ]
        }
      ]
    },
    {
      "cell_type": "code",
      "source": [
        "#Add function\n",
        "def add(a,b):\n",
        "  print(a+b)\n",
        "add(5,10)\n",
        "add(55,60)\n"
      ],
      "metadata": {
        "colab": {
          "base_uri": "https://localhost:8080/"
        },
        "id": "4WxEDzIju0ZR",
        "outputId": "151411d2-b2c7-4034-b5c0-6c3263a66c7f"
      },
      "execution_count": null,
      "outputs": [
        {
          "output_type": "stream",
          "name": "stdout",
          "text": [
            "15\n",
            "115\n"
          ]
        }
      ]
    },
    {
      "cell_type": "code",
      "source": [
        "#Factorial Using Function\n",
        "def fact(n):\n",
        "  fix = 1\n",
        "  for i in range(1,n+1):\n",
        "    fix *= i\n",
        "  return fix\n",
        "fact(5)"
      ],
      "metadata": {
        "colab": {
          "base_uri": "https://localhost:8080/"
        },
        "id": "9kx3AiR-vfaj",
        "outputId": "a4e4f241-11bd-4469-939f-223adc57f745"
      },
      "execution_count": null,
      "outputs": [
        {
          "output_type": "execute_result",
          "data": {
            "text/plain": [
              "120"
            ]
          },
          "metadata": {},
          "execution_count": 36
        }
      ]
    },
    {
      "cell_type": "code",
      "source": [
        "#Fibonacci series using Function\n",
        "def feb(n):\n",
        "  first = 0\n",
        "  second = 1\n",
        "  for i in range(3,n+1):\n",
        "    third = first + second\n",
        "    first = second\n",
        "    second = third\n",
        "  return third\n",
        "\n",
        "feb(10)\n",
        "\n"
      ],
      "metadata": {
        "id": "b2dIDuOwxFNm",
        "colab": {
          "base_uri": "https://localhost:8080/"
        },
        "outputId": "27549146-d152-4d1a-ba33-b710f1b52a73"
      },
      "execution_count": null,
      "outputs": [
        {
          "output_type": "execute_result",
          "data": {
            "text/plain": [
              "34"
            ]
          },
          "metadata": {},
          "execution_count": 14
        }
      ]
    },
    {
      "cell_type": "code",
      "source": [
        "#Lcm using functions\n",
        "def lcm(x,y):\n",
        " if x > y:\n",
        "  large = x\n",
        " else:\n",
        "   large = y\n",
        " for i in range(large,(x*y)+1):\n",
        "   if i % x == 0 and i % y == 0:\n",
        "     lcm_is = i\n",
        "     return lcm_is\n",
        "     break\n",
        "lcm(40,20)"
      ],
      "metadata": {
        "colab": {
          "base_uri": "https://localhost:8080/"
        },
        "id": "sX7z4AIIATKm",
        "outputId": "cf62c71c-1f77-4c2d-c5cc-56b0fb49ad36"
      },
      "execution_count": null,
      "outputs": [
        {
          "output_type": "execute_result",
          "data": {
            "text/plain": [
              "40"
            ]
          },
          "metadata": {},
          "execution_count": 24
        }
      ]
    },
    {
      "cell_type": "code",
      "source": [
        "# Hcf using function\n",
        "def hcf(x,y):\n",
        "  if x > y :\n",
        "    small = y\n",
        "  else:\n",
        "    small = x\n",
        "  for i in range (1,small+1):\n",
        "    if x % i == 0 and y % i == 0 :\n",
        "      hcf_is = i\n",
        "  return hcf_is\n",
        "hcf(15,20)\n"
      ],
      "metadata": {
        "colab": {
          "base_uri": "https://localhost:8080/"
        },
        "id": "Ci9UUJQCCSBJ",
        "outputId": "7d617d70-b065-4165-dd27-fd7ece40b028"
      },
      "execution_count": null,
      "outputs": [
        {
          "output_type": "execute_result",
          "data": {
            "text/plain": [
              "5"
            ]
          },
          "metadata": {},
          "execution_count": 39
        }
      ]
    },
    {
      "cell_type": "code",
      "source": [
        "#Recursion (Factorial)  # recusion time complexity is more\n",
        "def fact(n):\n",
        "  if n == 0 or n == 1 :\n",
        "     return 1\n",
        "  else:\n",
        "    return n * fact(n-1)\n",
        "fact(5)\n"
      ],
      "metadata": {
        "colab": {
          "base_uri": "https://localhost:8080/"
        },
        "id": "hHvV29XjkB2E",
        "outputId": "9886a8f7-ca19-41e1-e02f-bc4d559f548a"
      },
      "execution_count": null,
      "outputs": [
        {
          "output_type": "execute_result",
          "data": {
            "text/plain": [
              "120"
            ]
          },
          "metadata": {},
          "execution_count": 12
        }
      ]
    },
    {
      "cell_type": "code",
      "source": [
        "#Recursion (Fibonacci)\n",
        "def feb(n):\n",
        "  if n == 1 :\n",
        "    return 0\n",
        "  if n == 2 :\n",
        "    return 1\n",
        "  return feb(n-1) + feb(n-2)\n",
        "feb(10)\n"
      ],
      "metadata": {
        "colab": {
          "base_uri": "https://localhost:8080/"
        },
        "id": "b3PGweOJnhCX",
        "outputId": "bc41a948-4a7e-4d7f-eb4b-49c37ab3aa9c"
      },
      "execution_count": null,
      "outputs": [
        {
          "output_type": "execute_result",
          "data": {
            "text/plain": [
              "34"
            ]
          },
          "metadata": {},
          "execution_count": 21
        }
      ]
    },
    {
      "cell_type": "code",
      "source": [
        "# Reverse number using While loop\n",
        "num = 56789\n",
        "rev = 0\n",
        "while num > 0:\n",
        "  digit = num % 10\n",
        "  rev = rev * 10 + digit\n",
        "  num = num // 10\n",
        "  print(digit)"
      ],
      "metadata": {
        "id": "bllAKVbuo3rP",
        "colab": {
          "base_uri": "https://localhost:8080/"
        },
        "outputId": "c9cbe6fa-f162-464d-da47-d153cd28b29e"
      },
      "execution_count": 35,
      "outputs": [
        {
          "output_type": "stream",
          "name": "stdout",
          "text": [
            "9\n",
            "8\n",
            "7\n",
            "6\n",
            "5\n"
          ]
        }
      ]
    },
    {
      "cell_type": "code",
      "source": [
        "num = 56789\n",
        "rev = 0\n",
        "while num > 0:\n",
        "  digit = num % 10\n",
        "  rev = rev * 10 + digit\n",
        "  num = num // 10\n",
        "print(rev)"
      ],
      "metadata": {
        "colab": {
          "base_uri": "https://localhost:8080/"
        },
        "id": "kykPiIisoEDl",
        "outputId": "44d2ca8b-b3f2-43d6-96f7-460fbc8fa70f"
      },
      "execution_count": 17,
      "outputs": [
        {
          "output_type": "stream",
          "name": "stdout",
          "text": [
            "98765\n"
          ]
        }
      ]
    },
    {
      "cell_type": "code",
      "source": [
        "#palindrome\n",
        "num = int(input(\"Enter the number:\"))\n",
        "temp = num\n",
        "rev = 0\n",
        "while num > 0:\n",
        "  digit = num % 10\n",
        "  rev = rev * 10 + digit\n",
        "  num = num // 10\n",
        "print(\"Reverse number is :\",rev)\n",
        "if temp == rev :\n",
        "  print(\"palindrome\")\n",
        "else:\n",
        "  print(\"not a palindrome\")\n"
      ],
      "metadata": {
        "colab": {
          "base_uri": "https://localhost:8080/"
        },
        "id": "SjyP2Z4ot8CM",
        "outputId": "dc2e9c05-3e47-41bc-8b55-8de4081fa7aa"
      },
      "execution_count": 26,
      "outputs": [
        {
          "output_type": "stream",
          "name": "stdout",
          "text": [
            "Enter the number:1234\n",
            "Reverse number is : 4321\n",
            "not a palindrome\n"
          ]
        }
      ]
    },
    {
      "cell_type": "code",
      "source": [
        "#Reverse using functions\n",
        "def reverse(n):\n",
        "  rev = 0\n",
        "  while n > 0:\n",
        "    digit = n % 10\n",
        "    rev = rev * 10 + digit\n",
        "    n = n // 10\n",
        "  return rev\n",
        "reverse(123)"
      ],
      "metadata": {
        "colab": {
          "base_uri": "https://localhost:8080/"
        },
        "id": "S3d35aFUvl3N",
        "outputId": "a564e44f-1282-480a-d9ba-e5c50ccc36c6"
      },
      "execution_count": 29,
      "outputs": [
        {
          "output_type": "execute_result",
          "data": {
            "text/plain": [
              "321"
            ]
          },
          "metadata": {},
          "execution_count": 29
        }
      ]
    },
    {
      "cell_type": "code",
      "source": [
        "#String\n",
        "num = 4567\n",
        "num1 = str(num)\n",
        "rev = num1[::-1]\n",
        "print(rev)\n",
        "num3 = int(rev)/5\n",
        "print(num3)\n"
      ],
      "metadata": {
        "colab": {
          "base_uri": "https://localhost:8080/"
        },
        "id": "e2LW2jfJxoWe",
        "outputId": "ba9a505d-5cd6-4789-a238-9c116e495c03"
      },
      "execution_count": 36,
      "outputs": [
        {
          "output_type": "stream",
          "name": "stdout",
          "text": [
            "7654\n",
            "1530.8\n"
          ]
        }
      ]
    },
    {
      "cell_type": "code",
      "source": [
        "#reverse string using for loop\n",
        "name =\"aryan\"\n",
        "rev = \"\"\n",
        "for char in name:\n",
        "  rev = char + rev\n",
        "\n",
        "print(rev)"
      ],
      "metadata": {
        "colab": {
          "base_uri": "https://localhost:8080/"
        },
        "id": "2OzrsMgYycsS",
        "outputId": "eeb3d092-5801-48b6-b614-81d25f7274cc"
      },
      "execution_count": 40,
      "outputs": [
        {
          "output_type": "stream",
          "name": "stdout",
          "text": [
            "nayra\n"
          ]
        }
      ]
    },
    {
      "cell_type": "code",
      "source": [
        "name = \" x y z \"\n",
        "name.split()   # .split funtion\n",
        "\n",
        "name.replace(\"y\",\"b\")  # .replace\n",
        "name.startswith(\" \")   # .startswith"
      ],
      "metadata": {
        "colab": {
          "base_uri": "https://localhost:8080/"
        },
        "id": "XhuDEcYz1vn8",
        "outputId": "39b7f86f-4553-4ad9-990b-b834ab3cc018"
      },
      "execution_count": 51,
      "outputs": [
        {
          "output_type": "execute_result",
          "data": {
            "text/plain": [
              "True"
            ]
          },
          "metadata": {},
          "execution_count": 51
        }
      ]
    },
    {
      "cell_type": "code",
      "source": [],
      "metadata": {
        "id": "pXnuR86l2K2V"
      },
      "execution_count": null,
      "outputs": []
    }
  ]
}
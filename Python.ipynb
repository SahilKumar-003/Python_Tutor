{
  "nbformat": 4,
  "nbformat_minor": 0,
  "metadata": {
    "colab": {
      "provenance": [],
      "authorship_tag": "ABX9TyNgQslBJ8ezueWYKb2GSbQp",
      "include_colab_link": true
    },
    "kernelspec": {
      "name": "python3",
      "display_name": "Python 3"
    },
    "language_info": {
      "name": "python"
    }
  },
  "cells": [
    {
      "cell_type": "markdown",
      "metadata": {
        "id": "view-in-github",
        "colab_type": "text"
      },
      "source": [
        "<a href=\"https://colab.research.google.com/github/SahilKumar-003/Python_Tutor/blob/main/Python.ipynb\" target=\"_parent\"><img src=\"https://colab.research.google.com/assets/colab-badge.svg\" alt=\"Open In Colab\"/></a>"
      ]
    },
    {
      "cell_type": "code",
      "execution_count": 1,
      "metadata": {
        "id": "QxznGjzD5LcA",
        "colab": {
          "base_uri": "https://localhost:8080/",
          "height": 36
        },
        "outputId": "cbe8d468-7537-4155-999a-0079e1d18ed1"
      },
      "outputs": [
        {
          "output_type": "execute_result",
          "data": {
            "text/plain": [
              "' hello welcome to python class\\npython is a high level Programming Language\\n'"
            ],
            "application/vnd.google.colaboratory.intrinsic+json": {
              "type": "string"
            }
          },
          "metadata": {},
          "execution_count": 1
        }
      ],
      "source": [
        "#This is a comment\n",
        "''' hello welcome to python class\n",
        "python is a high level Programming Language\n",
        "'''\n"
      ]
    },
    {
      "cell_type": "code",
      "source": [
        "#Data Type\n",
        "a = 5\n",
        "b = 5.6\n",
        "c = \"Python\"\n",
        "d = True\n",
        "print(a,type(a))\n",
        "print(b,type(b))\n",
        "print(c,type(c))\n",
        "print(d,type(d))"
      ],
      "metadata": {
        "colab": {
          "base_uri": "https://localhost:8080/"
        },
        "id": "Jm6ZaH7B7CW6",
        "outputId": "5279170d-bb57-45f9-abe9-09ab21a4cc15"
      },
      "execution_count": 2,
      "outputs": [
        {
          "output_type": "stream",
          "name": "stdout",
          "text": [
            "5 <class 'int'>\n",
            "5.6 <class 'float'>\n",
            "Python <class 'str'>\n",
            "True <class 'bool'>\n"
          ]
        }
      ]
    },
    {
      "cell_type": "code",
      "source": [
        "#Billing System\n",
        "price_of_shirt = 900\n",
        "price_of_jeans = 1000\n",
        "price_of_shoes = 5000\n",
        "total_price = price_of_shirt + price_of_jeans + price_of_shoes\n",
        "print(\"Price of Shirt:\",price_of_shirt,\"\\nPrice of jeans:\",price_of_jeans,\"\\nPrice of shoes\",price_of_shoes)\n",
        "print(\"Total Price:\",total_price)"
      ],
      "metadata": {
        "colab": {
          "base_uri": "https://localhost:8080/"
        },
        "id": "9fnX6OgPFTeA",
        "outputId": "ad4e4ffc-f9ab-4e15-cfe1-e30736d108fe"
      },
      "execution_count": 3,
      "outputs": [
        {
          "output_type": "stream",
          "name": "stdout",
          "text": [
            "Price of Shirt: 900 \n",
            "Price of jeans: 1000 \n",
            "Price of shoes 5000\n",
            "Total Price: 6900\n"
          ]
        }
      ]
    },
    {
      "cell_type": "code",
      "source": [
        "# Billing System With Discount\n",
        "price_of_shirt = 900\n",
        "price_of_jeans = 1000\n",
        "price_of_shoes = 5000\n",
        "discount_on_shirt = 10\n",
        "discount_on_jeans = 3\n",
        "discount_on_shoes = 11\n",
        "#After Discount\n",
        "discountshirt = price_of_shirt*discount_on_shirt/100\n",
        "discountjeans = price_of_jeans*discount_on_jeans/100\n",
        "discountshoes = price_of_shoes*discount_on_shoes/100\n",
        "price_of_shirt = price_of_shirt - discountshirt\n",
        "price_of_jeans = price_of_jeans - discountjeans\n",
        "price_of_shoes = price_of_shoes - discountshoes\n",
        "total_price = price_of_shirt + price_of_jeans + price_of_shoes\n",
        "\n",
        "print(\"Price of Shirt:\",price_of_shirt,\"\\nPrice of jeans:\",price_of_jeans,\"\\nPrice of shoes\",price_of_shoes)\n",
        "print(\"Total Price:\",total_price)\n"
      ],
      "metadata": {
        "colab": {
          "base_uri": "https://localhost:8080/"
        },
        "id": "K0VboSWQ7ZhD",
        "outputId": "aac4bf69-2291-49e5-c39b-96a9ec0e6338"
      },
      "execution_count": 4,
      "outputs": [
        {
          "output_type": "stream",
          "name": "stdout",
          "text": [
            "Price of Shirt: 810.0 \n",
            "Price of jeans: 970.0 \n",
            "Price of shoes 4450.0\n",
            "Total Price: 6230.0\n"
          ]
        }
      ]
    },
    {
      "cell_type": "code",
      "source": [
        "# # Restraunt Billing System\n",
        "# pizza_medium = 199\n",
        "# pizza_large = 299\n",
        "# noodles = 99\n",
        "# creamy_pasta = 120\n",
        "# sandwich_regular = 99\n",
        "# burger = 59\n",
        "# total_price = pizza_medium + pizza_large + noodles + creamy_pasta + sandwich_regular + burger\n",
        "# #discount given to the items\n",
        "# discount_on_pizza_medium = 5\n",
        "# discount_on_pizza_large = 10\n",
        "# discount_on_noodles = 0\n",
        "# discount_on_creamy_pasta = 5\n",
        "# discount_on_sandwich_regular = 4\n",
        "# discount_on_burger = 0\n",
        "# #Calculating discount on items\n",
        "# pizza_medium_discount = pizza_medium*discount_on_pizza_medium/100\n",
        "# pizza_large_discount = pizza_large*discount_on_pizza_large/100\n",
        "# noodles_discount = noodles*discount_on_noodles/100\n",
        "# creamy_pasta_discount = creamy_pasta*discount_on_creamy_pasta/100\n",
        "# sandwich_regular_discount = sandwich_regular*discount_on_sandwich_regular/100\n",
        "# burger_discount = burger*discount_on_burger/100\n",
        "# #Prize after discount\n",
        "# net_prize_pizza_medium = pizza_medium-pizza_medium_discount\n",
        "# net_prize_pizza_large = pizza_large-pizza_large_discount\n",
        "# net_prize_noodles = noodles-noodles_discount\n",
        "# net_prize_creamy_pasta = creamy_pasta-creamy_pasta_discount\n",
        "# net_prize_sandwich_regular = sandwich_regular-sandwich_regular_discount\n",
        "# net_prize_burger = burger-burger_discount\n",
        "# net_total_prize = net_prize_pizza_medium + net_prize_pizza_large + net_prize_noodles + net_prize_creamy_pasta + net_prize_sandwich_regular + net_prize_burger\n",
        "# print(\"Hungerz Food Point \\nSales Price\")\n",
        "# print(\"Pizza medium:\",pizza_medium,\"\\nPizza large:\",pizza_large,\"\\nNoodles:\",noodles,\"\\nCreamy Pasta:\",creamy_pasta,\"\\nSandwich regular:\",sandwich_regular,\"\\nBurger:\",burger)\n",
        "# print(\"Total Price :\",total_price)\n",
        "# print(\"\\nDiscounted Prize\")\n",
        "# print(\"Pizza medium\",net_prize_pizza_medium,\"\\nPizza large:\",net_prize_pizza_large,\"\\nNoodles:\",net_prize_noodles,\"\\nCreamy pasta:\",net_prize_creamy_pasta,\"\\nSandwich regular:\",net_prize_sandwich_regular,\"\\nBurger:\",net_prize_burger)\n",
        "# print(\"Total Amount :\",net_total_prize)\n",
        "\n"
      ],
      "metadata": {
        "id": "mSPFFQpS9Ice"
      },
      "execution_count": 61,
      "outputs": []
    },
    {
      "cell_type": "code",
      "source": [
        "# Currency Convertor\n",
        "usd_inr = float(input(\"Currency in USD:\"))\n",
        "rupee_value_in_dollar = 88.1\n",
        "usd_inr = usd_inr*rupee_value_in_dollar\n",
        "print(\"Currency converted from USD to INR:\",usd_inr)\n",
        "\n",
        "inr_usd = float(input(\"Currency in INR:\"))\n",
        "inr_usd = inr_usd/rupee_value_in_dollar\n",
        "print(\"Currency converted From INR to USD\",inr_usd)\n",
        "\n",
        "euro_inr = float(input(\"Currency in Euro:\"))\n",
        "rupee_value_in_euro = 103.30\n",
        "euro_inr = euro_inr*rupee_value_in_euro\n",
        "print(\"Currency Converted from Euro to INR: \",euro_inr)\n",
        "\n",
        "inr_euro = float(input(\"Currency in INR:\"))\n",
        "inr_euro = inr_euro/rupee_value_in_euro\n",
        "print(\"Currency Converted To INR from Euro\",inr_euro)\n"
      ],
      "metadata": {
        "colab": {
          "base_uri": "https://localhost:8080/"
        },
        "id": "varHoANuBa5Y",
        "outputId": "a4a63643-7de3-4f77-db94-4085ab8390eb"
      },
      "execution_count": 84,
      "outputs": [
        {
          "output_type": "stream",
          "name": "stdout",
          "text": [
            "Currency in USD:5\n",
            "Currency converted from USD to INR: 440.5\n",
            "Currency in INR:500\n",
            "Currency converted From INR to USD 5.675368898978434\n",
            "Currency in Euro:5\n",
            "Currency Converted from Euro to INR:  516.5\n",
            "Currency in INR:500\n",
            "Currency Converted To INR from Euro 4.84027105517909\n"
          ]
        }
      ]
    },
    {
      "cell_type": "code",
      "source": [
        "#Simple Intrest\n",
        "principle = 10000\n",
        "rate = 5\n",
        "time = 2\n",
        "si = (principle*rate*time)/100\n",
        "print(si)\n"
      ],
      "metadata": {
        "colab": {
          "base_uri": "https://localhost:8080/"
        },
        "id": "juccIa45YAJK",
        "outputId": "853193eb-c55b-417f-a2a8-8ce34c39c392"
      },
      "execution_count": 86,
      "outputs": [
        {
          "output_type": "stream",
          "name": "stdout",
          "text": [
            "1000.0\n"
          ]
        }
      ]
    },
    {
      "cell_type": "code",
      "source": [],
      "metadata": {
        "id": "DiaXyMuxaaWI"
      },
      "execution_count": null,
      "outputs": []
    }
  ]
}
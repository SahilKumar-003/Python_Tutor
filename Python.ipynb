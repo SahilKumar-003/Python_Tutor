{
  "nbformat": 4,
  "nbformat_minor": 0,
  "metadata": {
    "colab": {
      "provenance": [],
      "authorship_tag": "ABX9TyPkG8+CPQj5ODEzzcj0nRPG",
      "include_colab_link": true
    },
    "kernelspec": {
      "name": "python3",
      "display_name": "Python 3"
    },
    "language_info": {
      "name": "python"
    }
  },
  "cells": [
    {
      "cell_type": "markdown",
      "metadata": {
        "id": "view-in-github",
        "colab_type": "text"
      },
      "source": [
        "<a href=\"https://colab.research.google.com/github/SahilKumar-003/Python_Tutor/blob/main/Python.ipynb\" target=\"_parent\"><img src=\"https://colab.research.google.com/assets/colab-badge.svg\" alt=\"Open In Colab\"/></a>"
      ]
    },
    {
      "cell_type": "code",
      "execution_count": null,
      "metadata": {
        "id": "QxznGjzD5LcA"
      },
      "outputs": [],
      "source": [
        "#This is a comment\n",
        "''' hello welcome to python class\n",
        "python is a high level Programming Language\n",
        "'''\n"
      ]
    },
    {
      "cell_type": "code",
      "source": [
        "#Data Type\n",
        "a = 5\n",
        "b = 5.6\n",
        "c = \"Python\"\n",
        "d = True\n",
        "print(a,type(a))\n",
        "print(b,type(b))\n",
        "print(c,type(c))\n",
        "print(d,type(d))"
      ],
      "metadata": {
        "colab": {
          "base_uri": "https://localhost:8080/"
        },
        "id": "Jm6ZaH7B7CW6",
        "outputId": "5208e08a-d9d5-4acb-eb76-dfb084a48c3f"
      },
      "execution_count": null,
      "outputs": [
        {
          "output_type": "stream",
          "name": "stdout",
          "text": [
            "5 <class 'int'>\n",
            "5.6 <class 'float'>\n",
            "Python <class 'str'>\n",
            "True <class 'bool'>\n"
          ]
        }
      ]
    },
    {
      "cell_type": "code",
      "source": [
        "#Billing System\n",
        "price_of_shirt = 900\n",
        "price_of_jeans = 1000\n",
        "price_of_shoes = 5000\n",
        "total_price = price_of_shirt + price_of_jeans + price_of_shoes\n",
        "print(\"Price of Shirt:\",price_of_shirt,\"\\nPrice of jeans:\",price_of_jeans,\"\\nPrice of shoes\",price_of_shoes)\n",
        "print(\"Total Price:\",total_price)"
      ],
      "metadata": {
        "colab": {
          "base_uri": "https://localhost:8080/"
        },
        "id": "9fnX6OgPFTeA",
        "outputId": "8f29ef27-9721-46a9-a75b-17180b76ef91"
      },
      "execution_count": null,
      "outputs": [
        {
          "output_type": "stream",
          "name": "stdout",
          "text": [
            "Price of Shirt: 900 \n",
            "Price of jeans: 1000 \n",
            "Price of shoes 5000\n",
            "Total Price: 6900\n"
          ]
        }
      ]
    },
    {
      "cell_type": "code",
      "source": [
        "# Billing System With Discount\n",
        "price_of_shirt = 900\n",
        "price_of_jeans = 1000\n",
        "price_of_shoes = 5000\n",
        "discount_on_shirt = 10\n",
        "discount_on_jeans = 3\n",
        "discount_on_shoes = 11\n",
        "#After Discount\n",
        "discountshirt = price_of_shirt*discount_on_shirt/100\n",
        "discountjeans = price_of_jeans*discount_on_jeans/100\n",
        "discountshoes = price_of_shoes*discount_on_shoes/100\n",
        "price_of_shirt = price_of_shirt - discountshirt\n",
        "price_of_jeans = price_of_jeans - discountjeans\n",
        "price_of_shoes = price_of_shoes - discountshoes\n",
        "total_price = price_of_shirt + price_of_jeans + price_of_shoes\n",
        "\n",
        "print(\"Price of Shirt:\",price_of_shirt,\"\\nPrice of jeans:\",price_of_jeans,\"\\nPrice of shoes\",price_of_shoes)\n",
        "print(\"Total Price:\",total_price)\n"
      ],
      "metadata": {
        "colab": {
          "base_uri": "https://localhost:8080/"
        },
        "id": "K0VboSWQ7ZhD",
        "outputId": "b15b47f9-ba9b-4007-bd16-c134a9341da0"
      },
      "execution_count": null,
      "outputs": [
        {
          "output_type": "stream",
          "name": "stdout",
          "text": [
            "Price of Shirt: 810.0 \n",
            "Price of jeans: 970.0 \n",
            "Price of shoes 4450.0\n",
            "Total Price: 6230.0\n"
          ]
        }
      ]
    },
    {
      "cell_type": "code",
      "source": [
        "# Restraunt Billing System\n",
        "pizza_medium = 199\n",
        "pizza_large = 299\n",
        "noodles = 99\n",
        "creamy_pasta = 120\n",
        "sandwich_regular = 99\n",
        "burger = 59\n",
        "total_price = pizza_medium + pizza_large + noodles + creamy_pasta + sandwich_regular + burger\n",
        "#discount given to the items\n",
        "discount_on_pizza_medium = 5\n",
        "discount_on_pizza_large = 10\n",
        "discount_on_noodles = 0\n",
        "discount_on_creamy_pasta = 5\n",
        "discount_on_sandwich_regular = 4\n",
        "discount_on_burger = 0\n",
        "#Calculating discount on items\n",
        "pizza_medium_discount = pizza_medium*discount_on_pizza_medium/100\n",
        "pizza_large_discount = pizza_large*discount_on_pizza_large/100\n",
        "noodles_discount = noodles*discount_on_noodles/100\n",
        "creamy_pasta_discount = creamy_pasta*discount_on_creamy_pasta/100\n",
        "sandwich_regular_discount = sandwich_regular*discount_on_sandwich_regular/100\n",
        "burger_discount = burger*discount_on_burger/100\n",
        "#Prize after discount\n",
        "net_prize_pizza_medium = pizza_medium-pizza_medium_discount\n",
        "net_prize_pizza_large = pizza_large-pizza_large_discount\n",
        "net_prize_noodles = noodles-noodles_discount\n",
        "net_prize_creamy_pasta = creamy_pasta-creamy_pasta_discount\n",
        "net_prize_sandwich_regular = sandwich_regular-sandwich_regular_discount\n",
        "net_prize_burger = burger-burger_discount\n",
        "net_total_prize = net_prize_pizza_medium + net_prize_pizza_large + net_prize_noodles + net_prize_creamy_pasta + net_prize_sandwich_regular + net_prize_burger\n",
        "print(\"Hungerz Food Point \\nSales Price\")\n",
        "print(\"Pizza medium:\",pizza_medium,\"\\nPizza large:\",pizza_large,\"\\nNoodles:\",noodles,\"\\nCreamy Pasta:\",creamy_pasta,\"\\nSandwich regular:\",sandwich_regular,\"\\nBurger:\",burger)\n",
        "print(\"Total Price :\",total_price)\n",
        "print(\"\\nDiscounted Prize\")\n",
        "print(\"Pizza medium\",net_prize_pizza_medium,\"\\nPizza large:\",net_prize_pizza_large,\"\\nNoodles:\",net_prize_noodles,\"\\nCreamy pasta:\",net_prize_creamy_pasta,\"\\nSandwich regular:\",net_prize_sandwich_regular,\"\\nBurger:\",net_prize_burger)\n",
        "print(\"Total Amount :\",net_total_prize)\n",
        "\n"
      ],
      "metadata": {
        "id": "mSPFFQpS9Ice",
        "colab": {
          "base_uri": "https://localhost:8080/"
        },
        "outputId": "9714b0a4-86a7-4539-8484-6d9e1887c158"
      },
      "execution_count": 20,
      "outputs": [
        {
          "output_type": "stream",
          "name": "stdout",
          "text": [
            "Hungerz Food Point \n",
            "Sales Price\n",
            "Pizza medium: 199 \n",
            "Pizza large: 299 \n",
            "Noodles: 99 \n",
            "Creamy Pasta: 120 \n",
            "Sandwich regular: 99 \n",
            "Burger: 59\n",
            "Total Price : 875\n",
            "\n",
            "Discounted Prize\n",
            "Pizza medium 189.05 \n",
            "Pizza large: 269.1 \n",
            "Noodles: 99.0 \n",
            "Creamy pasta: 114.0 \n",
            "Sandwich regular: 95.04 \n",
            "Burger: 59.0\n",
            "Total Amount : 825.19\n"
          ]
        }
      ]
    },
    {
      "cell_type": "code",
      "source": [
        "# Currency Convertor\n",
        "usd_inr = float(input(\"Currency in USD:\"))\n",
        "rupee_value_in_dollar = 88.1\n",
        "usd_inr = usd_inr*rupee_value_in_dollar\n",
        "print(\"Currency converted from USD to INR:\",usd_inr)\n",
        "\n",
        "inr_usd = float(input(\"Currency in INR:\"))\n",
        "inr_usd = inr_usd/rupee_value_in_dollar\n",
        "print(\"Currency converted From INR to USD\",inr_usd)\n",
        "\n",
        "euro_inr = float(input(\"Currency in Euro:\"))\n",
        "rupee_value_in_euro = 103.30\n",
        "euro_inr = euro_inr*rupee_value_in_euro\n",
        "print(\"Currency Converted from Euro to INR: \",euro_inr)\n",
        "\n",
        "inr_euro = float(input(\"Currency in INR:\"))\n",
        "inr_euro = inr_euro/rupee_value_in_euro\n",
        "print(\"Currency Converted To INR from Euro\",inr_euro)\n"
      ],
      "metadata": {
        "id": "varHoANuBa5Y"
      },
      "execution_count": null,
      "outputs": []
    },
    {
      "cell_type": "code",
      "source": [
        "#Simple Intrest\n",
        "principle = 10000\n",
        "rate = 5\n",
        "time = 2\n",
        "si = (principle*rate*time)/100\n",
        "print(si)\n"
      ],
      "metadata": {
        "id": "juccIa45YAJK",
        "colab": {
          "base_uri": "https://localhost:8080/"
        },
        "outputId": "c2ffc93e-a3d3-4263-e746-aca3d3645f0f"
      },
      "execution_count": 11,
      "outputs": [
        {
          "output_type": "stream",
          "name": "stdout",
          "text": [
            "1000.0\n"
          ]
        }
      ]
    },
    {
      "cell_type": "code",
      "source": [
        "#Simple Intrest Per Days\n",
        "principle = 50000\n",
        "rate = 5\n",
        "time = 56 # in days\n",
        "time =  56/365 #in year\n",
        "si = (principle*rate*time)/100\n",
        "print(si)"
      ],
      "metadata": {
        "colab": {
          "base_uri": "https://localhost:8080/"
        },
        "id": "m4_IUbPwExYJ",
        "outputId": "14624017-1df3-4270-802b-7fe92f723f5e"
      },
      "execution_count": 19,
      "outputs": [
        {
          "output_type": "stream",
          "name": "stdout",
          "text": [
            "383.5616438356165\n"
          ]
        }
      ]
    },
    {
      "cell_type": "code",
      "source": [
        "# if else\n",
        "age = 35\n",
        "if age>= 18:\n",
        "  print(\"Eligible For Voting\")\n",
        "else:\n",
        "  print(\"Not eligible for Voting\")"
      ],
      "metadata": {
        "colab": {
          "base_uri": "https://localhost:8080/"
        },
        "id": "hgB8c3DDFR9k",
        "outputId": "93c21637-9ccb-4a66-c987-100e55ae3b78"
      },
      "execution_count": 21,
      "outputs": [
        {
          "output_type": "stream",
          "name": "stdout",
          "text": [
            "Eligible For Voting\n"
          ]
        }
      ]
    },
    {
      "cell_type": "code",
      "source": [
        "num =  15\n",
        "if num % 2 == 0 :\n",
        "  print(\"Even\")\n",
        "else:\n",
        "  print(\"Odd\")\n"
      ],
      "metadata": {
        "colab": {
          "base_uri": "https://localhost:8080/"
        },
        "id": "M-3g20dlnvMy",
        "outputId": "b41ed0e7-b2f8-48fa-9f57-c246e50032ca"
      },
      "execution_count": 22,
      "outputs": [
        {
          "output_type": "stream",
          "name": "stdout",
          "text": [
            "Odd\n"
          ]
        }
      ]
    },
    {
      "cell_type": "code",
      "source": [
        "#if elif\n",
        "color = \"blue\"\n",
        "if color  == \"red\":\n",
        "  print(\"Accepted\")\n",
        "elif color == \"blue\":\n",
        "  print(\"Manage\")\n",
        "else:\n",
        "  print(\"not acceptable\")"
      ],
      "metadata": {
        "colab": {
          "base_uri": "https://localhost:8080/"
        },
        "id": "AZftoZRZqADH",
        "outputId": "91464a82-11da-43b5-f334-925431448b2d"
      },
      "execution_count": 25,
      "outputs": [
        {
          "output_type": "stream",
          "name": "stdout",
          "text": [
            "Manage\n"
          ]
        }
      ]
    },
    {
      "cell_type": "code",
      "source": [],
      "metadata": {
        "id": "r6_QkFfetJZO"
      },
      "execution_count": null,
      "outputs": []
    }
  ]
}
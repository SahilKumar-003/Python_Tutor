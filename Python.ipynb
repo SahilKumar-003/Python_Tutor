{
  "nbformat": 4,
  "nbformat_minor": 0,
  "metadata": {
    "colab": {
      "provenance": [],
      "authorship_tag": "ABX9TyMSkUCxS4cxPf1F/6aGRazd",
      "include_colab_link": true
    },
    "kernelspec": {
      "name": "python3",
      "display_name": "Python 3"
    },
    "language_info": {
      "name": "python"
    }
  },
  "cells": [
    {
      "cell_type": "markdown",
      "metadata": {
        "id": "view-in-github",
        "colab_type": "text"
      },
      "source": [
        "<a href=\"https://colab.research.google.com/github/SahilKumar-003/Python_Tutor/blob/main/Python.ipynb\" target=\"_parent\"><img src=\"https://colab.research.google.com/assets/colab-badge.svg\" alt=\"Open In Colab\"/></a>"
      ]
    },
    {
      "cell_type": "code",
      "execution_count": null,
      "metadata": {
        "id": "QxznGjzD5LcA",
        "colab": {
          "base_uri": "https://localhost:8080/",
          "height": 36
        },
        "outputId": "60f8c440-4628-4153-ae3a-d37cc40f97d5"
      },
      "outputs": [
        {
          "output_type": "execute_result",
          "data": {
            "text/plain": [
              "' hello welcome to python class\\npython is a high level Programming Language\\n'"
            ],
            "application/vnd.google.colaboratory.intrinsic+json": {
              "type": "string"
            }
          },
          "metadata": {},
          "execution_count": 1
        }
      ],
      "source": [
        "#This is a comment\n",
        "''' hello welcome to python class\n",
        "python is a high level Programming Language\n",
        "'''\n"
      ]
    },
    {
      "cell_type": "code",
      "source": [
        "#Data Type\n",
        "a = 5\n",
        "b = 5.6\n",
        "c = \"Python\"\n",
        "d = True\n",
        "print(a,type(a))\n",
        "print(b,type(b))\n",
        "print(c,type(c))\n",
        "print(d,type(d))"
      ],
      "metadata": {
        "colab": {
          "base_uri": "https://localhost:8080/"
        },
        "id": "Jm6ZaH7B7CW6",
        "outputId": "95a405a2-48b5-43e6-f1e6-c534a5fa6e70"
      },
      "execution_count": null,
      "outputs": [
        {
          "output_type": "stream",
          "name": "stdout",
          "text": [
            "5 <class 'int'>\n",
            "5.6 <class 'float'>\n",
            "Python <class 'str'>\n",
            "True <class 'bool'>\n"
          ]
        }
      ]
    },
    {
      "cell_type": "code",
      "source": [
        "#Billing System\n",
        "price_of_shirt = 900\n",
        "price_of_jeans = 1000\n",
        "price_of_shoes = 5000\n",
        "total_price = price_of_shirt + price_of_jeans + price_of_shoes\n",
        "print(\"Price of Shirt:\",price_of_shirt,\"\\nPrice of jeans:\",price_of_jeans,\"\\nPrice of shoes\",price_of_shoes)\n",
        "print(\"Total Price:\",total_price)"
      ],
      "metadata": {
        "colab": {
          "base_uri": "https://localhost:8080/"
        },
        "id": "9fnX6OgPFTeA",
        "outputId": "b54ceded-3866-4a3c-9abf-58eef4382d2e"
      },
      "execution_count": null,
      "outputs": [
        {
          "output_type": "stream",
          "name": "stdout",
          "text": [
            "Price of Shirt: 900 \n",
            "Price of jeans: 1000 \n",
            "Price of shoes 5000\n",
            "Total Price: 6900\n"
          ]
        }
      ]
    },
    {
      "cell_type": "code",
      "source": [
        "# Billing System With Discount\n",
        "price_of_shirt = 900\n",
        "price_of_jeans = 1000\n",
        "price_of_shoes = 5000\n",
        "discount_on_shirt = 10\n",
        "discount_on_jeans = 3\n",
        "discount_on_shoes = 11\n",
        "#After Discount\n",
        "discountshirt = price_of_shirt*discount_on_shirt/100\n",
        "discountjeans = price_of_jeans*discount_on_jeans/100\n",
        "discountshoes = price_of_shoes*discount_on_shoes/100\n",
        "price_of_shirt = price_of_shirt - discountshirt\n",
        "price_of_jeans = price_of_jeans - discountjeans\n",
        "price_of_shoes = price_of_shoes - discountshoes\n",
        "total_price = price_of_shirt + price_of_jeans + price_of_shoes\n",
        "\n",
        "print(\"Price of Shirt:\",price_of_shirt,\"\\nPrice of jeans:\",price_of_jeans,\"\\nPrice of shoes\",price_of_shoes)\n",
        "print(\"Total Price:\",total_price)\n"
      ],
      "metadata": {
        "colab": {
          "base_uri": "https://localhost:8080/"
        },
        "id": "K0VboSWQ7ZhD",
        "outputId": "88b32d6e-005e-4b82-ecae-487890efc048"
      },
      "execution_count": null,
      "outputs": [
        {
          "output_type": "stream",
          "name": "stdout",
          "text": [
            "Price of Shirt: 810.0 \n",
            "Price of jeans: 970.0 \n",
            "Price of shoes 4450.0\n",
            "Total Price: 6230.0\n"
          ]
        }
      ]
    },
    {
      "cell_type": "code",
      "source": [
        "# Restraunt Billing System\n",
        "pizza_medium = 199\n",
        "pizza_large = 299\n",
        "noodles = 99\n",
        "creamy_pasta = 120\n",
        "sandwich_regular = 99\n",
        "burger = 59\n",
        "total_price = pizza_medium + pizza_large + noodles + creamy_pasta + sandwich_regular + burger\n",
        "#discount given to the items\n",
        "discount_on_pizza_medium = 5\n",
        "discount_on_pizza_large = 10\n",
        "discount_on_noodles = 0\n",
        "discount_on_creamy_pasta = 5\n",
        "discount_on_sandwich_regular = 4\n",
        "discount_on_burger = 0\n",
        "#Calculating discount on items\n",
        "pizza_medium_discount = pizza_medium*discount_on_pizza_medium/100\n",
        "pizza_large_discount = pizza_large*discount_on_pizza_large/100\n",
        "noodles_discount = noodles*discount_on_noodles/100\n",
        "creamy_pasta_discount = creamy_pasta*discount_on_creamy_pasta/100\n",
        "sandwich_regular_discount = sandwich_regular*discount_on_sandwich_regular/100\n",
        "burger_discount = burger*discount_on_burger/100\n",
        "#Prize after discount\n",
        "net_prize_pizza_medium = pizza_medium-pizza_medium_discount\n",
        "net_prize_pizza_large = pizza_large-pizza_large_discount\n",
        "net_prize_noodles = noodles-noodles_discount\n",
        "net_prize_creamy_pasta = creamy_pasta-creamy_pasta_discount\n",
        "net_prize_sandwich_regular = sandwich_regular-sandwich_regular_discount\n",
        "net_prize_burger = burger-burger_discount\n",
        "net_total_prize = net_prize_pizza_medium + net_prize_pizza_large + net_prize_noodles + net_prize_creamy_pasta + net_prize_sandwich_regular + net_prize_burger\n",
        "print(\"Hungerz Food Point \\nSales Price\")\n",
        "print(\"Pizza medium:\",pizza_medium,\"\\nPizza large:\",pizza_large,\"\\nNoodles:\",noodles,\"\\nCreamy Pasta:\",creamy_pasta,\"\\nSandwich regular:\",sandwich_regular,\"\\nBurger:\",burger)\n",
        "print(\"Total Price :\",total_price)\n",
        "print(\"\\nDiscounted Prize\")\n",
        "print(\"Pizza medium\",net_prize_pizza_medium,\"\\nPizza large:\",net_prize_pizza_large,\"\\nNoodles:\",net_prize_noodles,\"\\nCreamy pasta:\",net_prize_creamy_pasta,\"\\nSandwich regular:\",net_prize_sandwich_regular,\"\\nBurger:\",net_prize_burger)\n",
        "print(\"Total Amount :\",net_total_prize)\n",
        "\n"
      ],
      "metadata": {
        "id": "mSPFFQpS9Ice",
        "colab": {
          "base_uri": "https://localhost:8080/"
        },
        "outputId": "66882630-bb66-4a23-fda5-cac398b91ccb"
      },
      "execution_count": null,
      "outputs": [
        {
          "output_type": "stream",
          "name": "stdout",
          "text": [
            "Hungerz Food Point \n",
            "Sales Price\n",
            "Pizza medium: 199 \n",
            "Pizza large: 299 \n",
            "Noodles: 99 \n",
            "Creamy Pasta: 120 \n",
            "Sandwich regular: 99 \n",
            "Burger: 59\n",
            "Total Price : 875\n",
            "\n",
            "Discounted Prize\n",
            "Pizza medium 189.05 \n",
            "Pizza large: 269.1 \n",
            "Noodles: 99.0 \n",
            "Creamy pasta: 114.0 \n",
            "Sandwich regular: 95.04 \n",
            "Burger: 59.0\n",
            "Total Amount : 825.19\n"
          ]
        }
      ]
    },
    {
      "cell_type": "code",
      "source": [
        "# Currency Convertor\n",
        "usd_inr = float(input(\"Currency in USD:\"))\n",
        "rupee_value_in_dollar = 88.1\n",
        "usd_inr = usd_inr*rupee_value_in_dollar\n",
        "print(\"Currency converted from USD to INR:\",usd_inr)\n",
        "\n",
        "inr_usd = float(input(\"Currency in INR:\"))\n",
        "inr_usd = inr_usd/rupee_value_in_dollar\n",
        "print(\"Currency converted From INR to USD\",inr_usd)\n",
        "\n",
        "euro_inr = float(input(\"Currency in Euro:\"))\n",
        "rupee_value_in_euro = 103.30\n",
        "euro_inr = euro_inr*rupee_value_in_euro\n",
        "print(\"Currency Converted from Euro to INR: \",euro_inr)\n",
        "\n",
        "inr_euro = float(input(\"Currency in INR:\"))\n",
        "inr_euro = inr_euro/rupee_value_in_euro\n",
        "print(\"Currency Converted To INR from Euro\",inr_euro)\n"
      ],
      "metadata": {
        "id": "varHoANuBa5Y",
        "colab": {
          "base_uri": "https://localhost:8080/"
        },
        "outputId": "f7d625ce-f120-4627-a314-56981d7e2704"
      },
      "execution_count": null,
      "outputs": [
        {
          "output_type": "stream",
          "name": "stdout",
          "text": [
            "Currency in USD:5\n",
            "Currency converted from USD to INR: 440.5\n",
            "Currency in INR:500\n",
            "Currency converted From INR to USD 5.675368898978434\n",
            "Currency in Euro:5\n",
            "Currency Converted from Euro to INR:  516.5\n",
            "Currency in INR:1000\n",
            "Currency Converted To INR from Euro 9.68054211035818\n"
          ]
        }
      ]
    },
    {
      "cell_type": "code",
      "source": [
        "#Simple Intrest\n",
        "principle = 10000\n",
        "rate = 5 #(5% monthly)\n",
        "time = 6  # months\n",
        "si = (principle*rate*time)/100\n",
        "print(si)\n"
      ],
      "metadata": {
        "id": "juccIa45YAJK",
        "colab": {
          "base_uri": "https://localhost:8080/"
        },
        "outputId": "67260f00-de06-4ce2-d397-8e28441cfbc2"
      },
      "execution_count": null,
      "outputs": [
        {
          "output_type": "stream",
          "name": "stdout",
          "text": [
            "3000.0\n"
          ]
        }
      ]
    },
    {
      "cell_type": "code",
      "source": [
        "#Simple Intrest Per Days\n",
        "principle = 1000\n",
        "rate = 5\n",
        "months = 2\n",
        "days = 3\n",
        "days_in_month = days/30\n",
        "# time = months + days\n",
        "# si = (principle*rate*time)/100\n",
        "# print(si)\n",
        "si_month = (principle*rate*months)/100\n",
        "# print(si1)\n",
        "si_days_in_month = (principle*rate*days_in_month)/100\n",
        "# print(si2)\n",
        "print(\"Simple Intrest \",si_month + si_days_in_month)"
      ],
      "metadata": {
        "colab": {
          "base_uri": "https://localhost:8080/"
        },
        "id": "m4_IUbPwExYJ",
        "outputId": "40f80efb-52ac-483d-9b5e-f7cd57d96744"
      },
      "execution_count": null,
      "outputs": [
        {
          "output_type": "stream",
          "name": "stdout",
          "text": [
            "Simple Intrest  105.0\n"
          ]
        }
      ]
    },
    {
      "cell_type": "code",
      "source": [
        "# if else\n",
        "age = 35\n",
        "if age>= 18:\n",
        "  print(\"Eligible For Voting\")\n",
        "else:\n",
        "  print(\"Not eligible for Voting\")"
      ],
      "metadata": {
        "colab": {
          "base_uri": "https://localhost:8080/"
        },
        "id": "hgB8c3DDFR9k",
        "outputId": "31d1682e-3a38-45c4-eaec-c65d5d87a0e5"
      },
      "execution_count": null,
      "outputs": [
        {
          "output_type": "stream",
          "name": "stdout",
          "text": [
            "Eligible For Voting\n"
          ]
        }
      ]
    },
    {
      "cell_type": "code",
      "source": [
        "num =  15\n",
        "if num % 2 == 0 :\n",
        "  print(\"Even\")\n",
        "else:\n",
        "  print(\"Odd\")\n"
      ],
      "metadata": {
        "colab": {
          "base_uri": "https://localhost:8080/"
        },
        "id": "M-3g20dlnvMy",
        "outputId": "62f35d79-5fe9-4245-f384-69be13acca1d"
      },
      "execution_count": null,
      "outputs": [
        {
          "output_type": "stream",
          "name": "stdout",
          "text": [
            "Odd\n"
          ]
        }
      ]
    },
    {
      "cell_type": "code",
      "source": [
        "#if elif\n",
        "color = \"blue\"\n",
        "if color  == \"red\":\n",
        "  print(\"Accepted\")\n",
        "elif color == \"blue\":\n",
        "  print(\"Manage\")\n",
        "else:\n",
        "  print(\"not acceptable\")"
      ],
      "metadata": {
        "colab": {
          "base_uri": "https://localhost:8080/"
        },
        "id": "AZftoZRZqADH",
        "outputId": "f2640e9f-4100-4697-dc42-dcd7ef075e76"
      },
      "execution_count": null,
      "outputs": [
        {
          "output_type": "stream",
          "name": "stdout",
          "text": [
            "Manage\n"
          ]
        }
      ]
    },
    {
      "cell_type": "code",
      "source": [
        "# Nested if else\n",
        "gender = str(input(\"Enter Your Gender:\"))\n",
        "age = int(input(\"Enter Your Age:\"))\n",
        "if gender == \"male\":\n",
        "  print(\"Go to Hotel A\")\n",
        "  if age >=30:\n",
        "    print(\"Your Building Number is 1\")\n",
        "  else:\n",
        "    print(\"Your Building Number is 2\")\n",
        "elif gender == \"female\":\n",
        "  print(\"Go to Hotel B\")\n",
        "  if age>= 30:\n",
        "    print(\"Your Building Number is 100\")\n",
        "  else:\n",
        "    print(\"Your Building Number is 101\")\n",
        "else:\n",
        "  print(\"No Result\")"
      ],
      "metadata": {
        "id": "r6_QkFfetJZO",
        "colab": {
          "base_uri": "https://localhost:8080/"
        },
        "outputId": "910c9642-1635-4bf5-c81f-c0e7a0d7c58d"
      },
      "execution_count": null,
      "outputs": [
        {
          "output_type": "stream",
          "name": "stdout",
          "text": [
            "Enter Your Gender:male\n",
            "Enter Your Age:21\n",
            "Go to Hotel A\n",
            "Your Building Number is 2\n"
          ]
        }
      ]
    },
    {
      "cell_type": "code",
      "source": [
        "#User Input\n",
        "# Takes String by default\n",
        "name = input(\"Enter your Name:\")\n",
        "age = int(input(\"Enter your Age:\"))\n",
        "salary = float(input(\"Enter your Salary:\"))\n",
        "status = bool(input(\"Married or unmarried:\"))\n"
      ],
      "metadata": {
        "id": "F-JOliXc_skT",
        "colab": {
          "base_uri": "https://localhost:8080/"
        },
        "outputId": "65f77f79-da6f-4638-d2d7-1f2fa1f91d31"
      },
      "execution_count": null,
      "outputs": [
        {
          "name": "stdout",
          "output_type": "stream",
          "text": [
            "Enter your Name:Aryan Sharma\n",
            "Enter your Age:21\n",
            "Enter your Salary:5000\n",
            "Married or unmarried:married\n"
          ]
        }
      ]
    },
    {
      "cell_type": "code",
      "source": [
        "# simple intrest with if condition\n",
        "principle = 10000\n",
        "rate = 5\n",
        "months = 5\n",
        "no_of_day = 10\n",
        "month_name = input(\"Enter month:\")\n",
        "if month_name == \"jan\"or month_name ==\"mar\"or month_name == \"may\" or month_name == \"july\" or month_name == \"aug\" or month_name == \"oct\" or month_name ==  \"dec\":\n",
        "  days = 31\n",
        "\n",
        "elif month_name == \"apr\" or month_name == \"june\" or month_name == \"sep\" or month_name == \"nov\":\n",
        "  days = 30\n",
        "\n",
        "elif month_name == \"feb\":\n",
        "  days = 28\n",
        "\n",
        "else:\n",
        "  print(\"Invalid Input\")\n",
        "print(month_name)\n",
        "\n",
        "days_in_month = no_of_day/days\n",
        "print(days_in_month)\n",
        "\n",
        "si = (principle*rate*days_in_month)/100\n",
        "print(\"Simple Intrest :\",si)\n",
        "\n",
        "\n",
        "\n"
      ],
      "metadata": {
        "id": "8tFTaNlBsfjf",
        "colab": {
          "base_uri": "https://localhost:8080/"
        },
        "outputId": "40689b66-30d3-4d6c-e200-d58c5f97c1a6"
      },
      "execution_count": 63,
      "outputs": [
        {
          "output_type": "stream",
          "name": "stdout",
          "text": [
            "Enter month:mar\n",
            "mar\n",
            "0.3225806451612903\n",
            "Simple Intrest : 161.29032258064515\n"
          ]
        }
      ]
    },
    {
      "cell_type": "code",
      "source": [
        "#leap Year\n",
        "year = 2024\n",
        "if year % 4 == 0 and year % 100 != 0 or year % 400 == 0:  # leap year condition\n",
        "  print(\"leap Year\")\n",
        "else:\n",
        "  print(\"Not a leap year\")\n"
      ],
      "metadata": {
        "id": "lgbk8Idt3tjI",
        "colab": {
          "base_uri": "https://localhost:8080/"
        },
        "outputId": "2de7dfd5-d74f-4b5b-ec4f-45cd86c8d0d7"
      },
      "execution_count": 65,
      "outputs": [
        {
          "output_type": "stream",
          "name": "stdout",
          "text": [
            "leap Year\n"
          ]
        }
      ]
    },
    {
      "cell_type": "code",
      "source": [
        "# leap year using nested if else\n",
        "year2 = 2024\n",
        "if year2 % 4 == 0 :\n",
        "  if year2 % 100 == 0 :\n",
        "    if year2 % 400 == 0 :\n",
        "      print(\"leap year\")\n",
        "    else:\n",
        "      print(\"not a leap year\")\n",
        "  else:\n",
        "    print(\"leap year\")\n",
        "else:\n",
        "  print(\"not a leap year\")"
      ],
      "metadata": {
        "id": "a0Ge_OgRvfZo",
        "colab": {
          "base_uri": "https://localhost:8080/"
        },
        "outputId": "e2ff83fa-8b12-46bf-9f9f-166813539f97"
      },
      "execution_count": 84,
      "outputs": [
        {
          "output_type": "stream",
          "name": "stdout",
          "text": [
            "leap year\n"
          ]
        }
      ]
    },
    {
      "cell_type": "code",
      "source": [],
      "metadata": {
        "id": "t4AUBXkE9DZY"
      },
      "execution_count": null,
      "outputs": []
    }
  ]
}
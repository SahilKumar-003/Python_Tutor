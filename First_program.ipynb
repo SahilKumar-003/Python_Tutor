{
  "nbformat": 4,
  "nbformat_minor": 0,
  "metadata": {
    "colab": {
      "provenance": [],
      "authorship_tag": "ABX9TyNZ1E/DyFtmdfPq1HP0rP2f",
      "include_colab_link": true
    },
    "kernelspec": {
      "name": "python3",
      "display_name": "Python 3"
    },
    "language_info": {
      "name": "python"
    }
  },
  "cells": [
    {
      "cell_type": "markdown",
      "metadata": {
        "id": "view-in-github",
        "colab_type": "text"
      },
      "source": [
        "<a href=\"https://colab.research.google.com/github/SahilKumar-003/Python_Tutor/blob/main/First_program.ipynb\" target=\"_parent\"><img src=\"https://colab.research.google.com/assets/colab-badge.svg\" alt=\"Open In Colab\"/></a>"
      ]
    },
    {
      "cell_type": "code",
      "execution_count": null,
      "metadata": {
        "colab": {
          "base_uri": "https://localhost:8080/"
        },
        "id": "scH5biAWiwyd",
        "outputId": "b58b7583-b50e-446c-ae47-f1598b88338c"
      },
      "outputs": [
        {
          "output_type": "stream",
          "name": "stdout",
          "text": [
            "Hello World\n"
          ]
        }
      ],
      "source": [
        "print(\"Hello World\")"
      ]
    },
    {
      "cell_type": "code",
      "source": [
        "x=5\n",
        "y=10\n",
        "print(x+y)"
      ],
      "metadata": {
        "colab": {
          "base_uri": "https://localhost:8080/"
        },
        "id": "VK0H4Z1pjHDg",
        "outputId": "1d01f2cc-ffd1-445c-f99e-5ec9b2d270b3"
      },
      "execution_count": null,
      "outputs": [
        {
          "output_type": "stream",
          "name": "stdout",
          "text": [
            "15\n"
          ]
        }
      ]
    },
    {
      "cell_type": "code",
      "source": [
        "#Restaurant Billing System\n",
        "Pizza = 189\n",
        "Discount_pizza = Pizza*0.05\n",
        "Pizza = Pizza - Discount_pizza\n",
        "Dosa = 150\n",
        "Discount_Dosa = Dosa*0.05\n",
        "Dosa= Dosa - Discount_Dosa\n",
        "Coffie = 70\n",
        "Discount_Coffie = Coffie*0.02\n",
        "Coffie = Coffie - Discount_Coffie\n",
        "Total = Pizza+Dosa+Coffie\n",
        "Discount = Total*0.10\n",
        "Total = Total-Discount\n",
        "print(\"pizza =\",Pizza,\"\\nDosa =\",Dosa,\"\\nCoffie =\",Coffie,\"\\nDiscount =\",Discount,\"\\nTotal Price =\",Total)"
      ],
      "metadata": {
        "colab": {
          "base_uri": "https://localhost:8080/"
        },
        "id": "WC-D4ArukYrM",
        "outputId": "4298ebe4-91cc-4956-e79e-ae594e3df6dc"
      },
      "execution_count": null,
      "outputs": [
        {
          "output_type": "stream",
          "name": "stdout",
          "text": [
            "pizza = 179.55 \n",
            "Dosa = 142.5 \n",
            "Coffie = 68.6 \n",
            "Discount = 39.065 \n",
            "Total Price = 351.585\n"
          ]
        }
      ]
    },
    {
      "cell_type": "code",
      "source": [],
      "metadata": {
        "id": "xFhQARXHmrRA"
      },
      "execution_count": null,
      "outputs": []
    }
  ]
}